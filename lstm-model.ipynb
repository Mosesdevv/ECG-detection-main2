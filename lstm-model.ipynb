{
 "cells": [
  {
   "cell_type": "code",
   "execution_count": 1,
   "metadata": {},
   "outputs": [
    {
     "name": "stdout",
     "output_type": "stream",
     "text": [
      "X_train (317133, 187, 1)\n",
      "y_train (317133, 5)\n",
      "X_test (32834, 187, 1)\n",
      "y_test (32834, 5)\n"
     ]
    },
    {
     "name": "stderr",
     "output_type": "stream",
     "text": [
      "c:\\Python311\\Lib\\site-packages\\keras\\src\\layers\\rnn\\rnn.py:204: UserWarning: Do not pass an `input_shape`/`input_dim` argument to a layer. When using Sequential models, prefer using an `Input(shape)` object as the first layer in the model instead.\n",
      "  super().__init__(**kwargs)\n"
     ]
    },
    {
     "data": {
      "text/html": [
       "<pre style=\"white-space:pre;overflow-x:auto;line-height:normal;font-family:Menlo,'DejaVu Sans Mono',consolas,'Courier New',monospace\"><span style=\"font-weight: bold\">Model: \"sequential\"</span>\n",
       "</pre>\n"
      ],
      "text/plain": [
       "\u001b[1mModel: \"sequential\"\u001b[0m\n"
      ]
     },
     "metadata": {},
     "output_type": "display_data"
    },
    {
     "data": {
      "text/html": [
       "<pre style=\"white-space:pre;overflow-x:auto;line-height:normal;font-family:Menlo,'DejaVu Sans Mono',consolas,'Courier New',monospace\">┏━━━━━━━━━━━━━━━━━━━━━━━━━━━━━━━━━┳━━━━━━━━━━━━━━━━━━━━━━━━┳━━━━━━━━━━━━━━━┓\n",
       "┃<span style=\"font-weight: bold\"> Layer (type)                    </span>┃<span style=\"font-weight: bold\"> Output Shape           </span>┃<span style=\"font-weight: bold\">       Param # </span>┃\n",
       "┡━━━━━━━━━━━━━━━━━━━━━━━━━━━━━━━━━╇━━━━━━━━━━━━━━━━━━━━━━━━╇━━━━━━━━━━━━━━━┩\n",
       "│ lstm (<span style=\"color: #0087ff; text-decoration-color: #0087ff\">LSTM</span>)                     │ (<span style=\"color: #00d7ff; text-decoration-color: #00d7ff\">None</span>, <span style=\"color: #00af00; text-decoration-color: #00af00\">64</span>)             │        <span style=\"color: #00af00; text-decoration-color: #00af00\">16,896</span> │\n",
       "├─────────────────────────────────┼────────────────────────┼───────────────┤\n",
       "│ dense (<span style=\"color: #0087ff; text-decoration-color: #0087ff\">Dense</span>)                   │ (<span style=\"color: #00d7ff; text-decoration-color: #00d7ff\">None</span>, <span style=\"color: #00af00; text-decoration-color: #00af00\">128</span>)            │         <span style=\"color: #00af00; text-decoration-color: #00af00\">8,320</span> │\n",
       "├─────────────────────────────────┼────────────────────────┼───────────────┤\n",
       "│ dropout (<span style=\"color: #0087ff; text-decoration-color: #0087ff\">Dropout</span>)               │ (<span style=\"color: #00d7ff; text-decoration-color: #00d7ff\">None</span>, <span style=\"color: #00af00; text-decoration-color: #00af00\">128</span>)            │             <span style=\"color: #00af00; text-decoration-color: #00af00\">0</span> │\n",
       "├─────────────────────────────────┼────────────────────────┼───────────────┤\n",
       "│ dense_1 (<span style=\"color: #0087ff; text-decoration-color: #0087ff\">Dense</span>)                 │ (<span style=\"color: #00d7ff; text-decoration-color: #00d7ff\">None</span>, <span style=\"color: #00af00; text-decoration-color: #00af00\">5</span>)              │           <span style=\"color: #00af00; text-decoration-color: #00af00\">645</span> │\n",
       "└─────────────────────────────────┴────────────────────────┴───────────────┘\n",
       "</pre>\n"
      ],
      "text/plain": [
       "┏━━━━━━━━━━━━━━━━━━━━━━━━━━━━━━━━━┳━━━━━━━━━━━━━━━━━━━━━━━━┳━━━━━━━━━━━━━━━┓\n",
       "┃\u001b[1m \u001b[0m\u001b[1mLayer (type)                   \u001b[0m\u001b[1m \u001b[0m┃\u001b[1m \u001b[0m\u001b[1mOutput Shape          \u001b[0m\u001b[1m \u001b[0m┃\u001b[1m \u001b[0m\u001b[1m      Param #\u001b[0m\u001b[1m \u001b[0m┃\n",
       "┡━━━━━━━━━━━━━━━━━━━━━━━━━━━━━━━━━╇━━━━━━━━━━━━━━━━━━━━━━━━╇━━━━━━━━━━━━━━━┩\n",
       "│ lstm (\u001b[38;5;33mLSTM\u001b[0m)                     │ (\u001b[38;5;45mNone\u001b[0m, \u001b[38;5;34m64\u001b[0m)             │        \u001b[38;5;34m16,896\u001b[0m │\n",
       "├─────────────────────────────────┼────────────────────────┼───────────────┤\n",
       "│ dense (\u001b[38;5;33mDense\u001b[0m)                   │ (\u001b[38;5;45mNone\u001b[0m, \u001b[38;5;34m128\u001b[0m)            │         \u001b[38;5;34m8,320\u001b[0m │\n",
       "├─────────────────────────────────┼────────────────────────┼───────────────┤\n",
       "│ dropout (\u001b[38;5;33mDropout\u001b[0m)               │ (\u001b[38;5;45mNone\u001b[0m, \u001b[38;5;34m128\u001b[0m)            │             \u001b[38;5;34m0\u001b[0m │\n",
       "├─────────────────────────────────┼────────────────────────┼───────────────┤\n",
       "│ dense_1 (\u001b[38;5;33mDense\u001b[0m)                 │ (\u001b[38;5;45mNone\u001b[0m, \u001b[38;5;34m5\u001b[0m)              │           \u001b[38;5;34m645\u001b[0m │\n",
       "└─────────────────────────────────┴────────────────────────┴───────────────┘\n"
      ]
     },
     "metadata": {},
     "output_type": "display_data"
    },
    {
     "data": {
      "text/html": [
       "<pre style=\"white-space:pre;overflow-x:auto;line-height:normal;font-family:Menlo,'DejaVu Sans Mono',consolas,'Courier New',monospace\"><span style=\"font-weight: bold\"> Total params: </span><span style=\"color: #00af00; text-decoration-color: #00af00\">25,861</span> (101.02 KB)\n",
       "</pre>\n"
      ],
      "text/plain": [
       "\u001b[1m Total params: \u001b[0m\u001b[38;5;34m25,861\u001b[0m (101.02 KB)\n"
      ]
     },
     "metadata": {},
     "output_type": "display_data"
    },
    {
     "data": {
      "text/html": [
       "<pre style=\"white-space:pre;overflow-x:auto;line-height:normal;font-family:Menlo,'DejaVu Sans Mono',consolas,'Courier New',monospace\"><span style=\"font-weight: bold\"> Trainable params: </span><span style=\"color: #00af00; text-decoration-color: #00af00\">25,861</span> (101.02 KB)\n",
       "</pre>\n"
      ],
      "text/plain": [
       "\u001b[1m Trainable params: \u001b[0m\u001b[38;5;34m25,861\u001b[0m (101.02 KB)\n"
      ]
     },
     "metadata": {},
     "output_type": "display_data"
    },
    {
     "data": {
      "text/html": [
       "<pre style=\"white-space:pre;overflow-x:auto;line-height:normal;font-family:Menlo,'DejaVu Sans Mono',consolas,'Courier New',monospace\"><span style=\"font-weight: bold\"> Non-trainable params: </span><span style=\"color: #00af00; text-decoration-color: #00af00\">0</span> (0.00 B)\n",
       "</pre>\n"
      ],
      "text/plain": [
       "\u001b[1m Non-trainable params: \u001b[0m\u001b[38;5;34m0\u001b[0m (0.00 B)\n"
      ]
     },
     "metadata": {},
     "output_type": "display_data"
    },
    {
     "name": "stdout",
     "output_type": "stream",
     "text": [
      "Fold #1\n"
     ]
    }
   ],
   "source": [
    "import numpy as np\n",
    "import pandas as pd\n",
    "import matplotlib.pyplot as plt\n",
    "import seaborn as sns\n",
    "from sklearn.metrics import classification_report, confusion_matrix, accuracy_score\n",
    "from sklearn.model_selection import train_test_split, KFold\n",
    "from imblearn.over_sampling import ADASYN\n",
    "from tensorflow.keras.models import Sequential\n",
    "from tensorflow.keras.layers import LSTM, Dense, Dropout\n",
    "from tensorflow.keras.utils import to_categorical\n",
    "from tensorflow.keras.callbacks import LearningRateScheduler\n",
    "from tensorflow.keras.optimizers import Adam\n",
    "from sklearn import metrics\n",
    "import math\n",
    "\n",
    "# Function to create LSTM model\n",
    "def get_lstm():\n",
    "    lstm_model = Sequential()\n",
    "    lstm_model.add(LSTM(64, input_shape=(360, 1)))\n",
    "    lstm_model.add(Dense(128, activation='relu'))\n",
    "    lstm_model.add(Dropout(0.3))\n",
    "    lstm_model.add(Dense(5, activation='softmax'))\n",
    "    \n",
    "    lstm_model.compile(optimizer='adam', loss='categorical_crossentropy', metrics=['accuracy'])\n",
    "    lstm_model.summary()\n",
    "    return lstm_model\n",
    "\n",
    "\n",
    "# Load data\n",
    "df_train = pd.read_csv('C:/Users/OJO ABAYOMI MOSES/Documents/ECG-detection-main/mitbih_train.csv', header=None)\n",
    "df_test = pd.read_csv('C:/Users/OJO ABAYOMI MOSES/Documents/ECG-detection-main/mitbih_test.csv', header=None)\n",
    "df = pd.concat([df_train, df_test], axis=0)\n",
    "\n",
    "X = df.iloc[:, :-1].values\n",
    "y = df.iloc[:, -1].values\n",
    "\n",
    "X_train, X_test, y_train, y_test = train_test_split(X, y, test_size=0.3, random_state=42, shuffle=True, stratify=y)\n",
    "\n",
    "# Handle class imbalance\n",
    "asy = ADASYN(random_state=42)\n",
    "X_res, y_res = asy.fit_resample(X_train, y_train)\n",
    "\n",
    "X_train = np.expand_dims(np.array(X_res), 2)\n",
    "X_test = np.expand_dims(np.array(X_test), 2)\n",
    "y_train = to_categorical(np.array(y_res))\n",
    "y_test = to_categorical(np.array(y_test))\n",
    "\n",
    "# Print shapes\n",
    "print(\"X_train\", X_train.shape)\n",
    "print(\"y_train\", y_train.shape)\n",
    "print(\"X_test\", X_test.shape)\n",
    "print(\"y_test\", y_test.shape)\n",
    "\n",
    "# Initialize LSTM model\n",
    "lstm = get_lstm()\n",
    "\n",
    "# Learning rate scheduler\n",
    "def exp_decay(epoch):\n",
    "    initial_lrate = 3e-5\n",
    "    k = 0.75\n",
    "    t = X_train.shape[0] // (10000 * 500)  # assuming batch_size is 500\n",
    "    lrate = initial_lrate * math.exp(-k * t)\n",
    "    return lrate\n",
    "\n",
    "lrate = LearningRateScheduler(exp_decay)\n",
    "\n",
    "# Cross-validate\n",
    "kf = KFold(5, shuffle=True, random_state=42)\n",
    "oos_y = []\n",
    "oos_pred = []\n",
    "\n",
    "lstm_acc_per_fold = []\n",
    "lstm_loss_per_fold = []\n",
    "lstm_rmse_per_fold = []\n",
    "fold = 0\n",
    "\n",
    "for train, test in kf.split(X_train, y_train):\n",
    "    fold += 1\n",
    "    print(f\"Fold #{fold}\")\n",
    "    \n",
    "    x_train, y_train_fold = X_train[train], y_train[train]\n",
    "    x_test, y_test_fold = X_train[test], y_train[test]\n",
    "    \n",
    "    history = lstm.fit(x_train, y_train_fold, validation_data=(x_test, y_test_fold), verbose=0, epochs=10, callbacks=[lrate])\n",
    "    \n",
    "    pred = lstm.predict(x_test)\n",
    "    oos_y.append(y_test_fold)\n",
    "    oos_pred.append(pred)  \n",
    "\n",
    "    # RMSE with the validation test\n",
    "    score = np.sqrt(metrics.mean_squared_error(pred, y_test_fold))\n",
    "    lstm_rmse_per_fold.append(score)\n",
    "    print(f\"Fold score (RMSE): {score}\")\n",
    "\n",
    "    # LSTM evaluation scores with the validation test\n",
    "    scores = lstm.evaluate(x_test, y_test_fold, verbose=0)\n",
    "    print(f'Score for fold {fold}: {lstm.metrics_names[0]} of {scores[0]}; {lstm.metrics_names[1]} of {scores[1]*100}%')\n",
    "    lstm_acc_per_fold.append(scores[1] * 100)\n",
    "    lstm_loss_per_fold.append(scores[0])\n",
    "\n",
    "# Average scores\n",
    "lstm_average_acc = sum(lstm_acc_per_fold) / 5\n",
    "lstm_average_loss = sum(lstm_loss_per_fold) / 5\n",
    "lstm_average_rmse = sum(lstm_rmse_per_fold) / 5\n",
    "print(f\"Average Accuracy: {lstm_average_acc}\")\n",
    "print(f\"Average Loss: {lstm_average_loss}\")\n",
    "print(f\"Average RMSE: {lstm_average_rmse}\")\n",
    "\n",
    "# Evaluate on test data\n",
    "score = lstm.evaluate(X_test, y_test)\n",
    "print('Test Loss:', score[0])\n",
    "print('Test accuracy:', score[1])\n",
    "\n",
    "# Predict on test data\n",
    "y_pred = lstm.predict(X_test, batch_size=1000)\n",
    "print(classification_report(y_test.argmax(axis=1), y_pred.argmax(axis=1)))\n",
    "\n",
    "# Confusion matrix and heatmap\n",
    "y_true = [np.argmax(element) for element in y_test]\n",
    "prediction_proba = lstm.predict(X_test)\n",
    "prediction = np.argmax(prediction_proba, axis=1)\n",
    "model_cf_matrix = confusion_matrix(y_true, prediction)\n",
    "sns.heatmap(model_cf_matrix / np.sum(model_cf_matrix), annot=True, fmt='.3%', cmap='Blues')\n",
    "plt.show()\n",
    "\n",
    "# RMSE Score\n",
    "score = np.sqrt(metrics.mean_squared_error(y_true, prediction))\n",
    "print(f\"RMSE Score: {score}\")\n",
    "\n",
    "# Save the model\n",
    "lstm.save(r'C:\\Users\\OJO ABAYOMI MOSES\\3D Objects\\lstm_model.h5')\n",
    "print('Saved the model to disk')\n"
   ]
  }
 ],
 "metadata": {
  "kernelspec": {
   "display_name": "Python 3",
   "language": "python",
   "name": "python3"
  },
  "language_info": {
   "codemirror_mode": {
    "name": "ipython",
    "version": 3
   },
   "file_extension": ".py",
   "mimetype": "text/x-python",
   "name": "python",
   "nbconvert_exporter": "python",
   "pygments_lexer": "ipython3",
   "version": "3.11.3"
  }
 },
 "nbformat": 4,
 "nbformat_minor": 2
}
