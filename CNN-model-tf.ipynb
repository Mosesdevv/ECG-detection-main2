{
  "cells": [
    {
      "cell_type": "markdown",
      "metadata": {
        "id": "V5ZUQ0si_0_t"
      },
      "source": [
        "Importing the libraries"
      ]
    },
    {
      "cell_type": "code",
      "execution_count": 1,
      "metadata": {
        "id": "A3PB0a0B9td2"
      },
      "outputs": [],
      "source": [
        "import numpy as np\n",
        "import pandas as pd\n",
        "import matplotlib.pyplot as plt\n",
        "from sklearn.metrics import classification_report, f1_score, confusion_matrix, accuracy_score, roc_auc_score\n",
        "from sklearn.model_selection import train_test_split\n",
        "from imblearn.over_sampling import SMOTE, ADASYN\n",
        "from tensorflow.keras.utils import to_categorical\n",
        "from sklearn.utils import class_weight"
      ]
    },
    {
      "cell_type": "markdown",
      "metadata": {
        "id": "_0TLWB-e21bl"
      },
      "source": [
        "Load the dataset from the Google Drive"
      ]
    },
    {
      "cell_type": "code",
      "execution_count": 2,
      "metadata": {
        "id": "GBmH0C-6BKz_"
      },
      "outputs": [],
      "source": [
        "df = pd.read_csv('C:/Users/OJO ABAYOMI MOSES/Documents/ECG-detection-main/mitbih_train.csv', header=None)\n",
        "df2 = pd.read_csv('C:/Users/OJO ABAYOMI MOSES/Documents/ECG-detection-main/mitbih_test.csv', header=None)\n",
        "df = pd.concat([df, df2], axis=0)"
      ]
    },
    {
      "cell_type": "code",
      "execution_count": 3,
      "metadata": {
        "colab": {
          "base_uri": "https://localhost:8080/",
          "height": 235
        },
        "id": "WnTQnoT7XWsh",
        "outputId": "18581559-d346-4162-bbb8-52f0219f0871"
      },
      "outputs": [
        {
          "data": {
            "text/html": [
              "<div>\n",
              "<style scoped>\n",
              "    .dataframe tbody tr th:only-of-type {\n",
              "        vertical-align: middle;\n",
              "    }\n",
              "\n",
              "    .dataframe tbody tr th {\n",
              "        vertical-align: top;\n",
              "    }\n",
              "\n",
              "    .dataframe thead th {\n",
              "        text-align: right;\n",
              "    }\n",
              "</style>\n",
              "<table border=\"1\" class=\"dataframe\">\n",
              "  <thead>\n",
              "    <tr style=\"text-align: right;\">\n",
              "      <th></th>\n",
              "      <th>0</th>\n",
              "      <th>1</th>\n",
              "      <th>2</th>\n",
              "      <th>3</th>\n",
              "      <th>4</th>\n",
              "      <th>5</th>\n",
              "      <th>6</th>\n",
              "      <th>7</th>\n",
              "      <th>8</th>\n",
              "      <th>9</th>\n",
              "      <th>...</th>\n",
              "      <th>178</th>\n",
              "      <th>179</th>\n",
              "      <th>180</th>\n",
              "      <th>181</th>\n",
              "      <th>182</th>\n",
              "      <th>183</th>\n",
              "      <th>184</th>\n",
              "      <th>185</th>\n",
              "      <th>186</th>\n",
              "      <th>187</th>\n",
              "    </tr>\n",
              "  </thead>\n",
              "  <tbody>\n",
              "    <tr>\n",
              "      <th>0</th>\n",
              "      <td>0.977941</td>\n",
              "      <td>0.926471</td>\n",
              "      <td>0.681373</td>\n",
              "      <td>0.245098</td>\n",
              "      <td>0.154412</td>\n",
              "      <td>0.191176</td>\n",
              "      <td>0.151961</td>\n",
              "      <td>0.085784</td>\n",
              "      <td>0.058824</td>\n",
              "      <td>0.049020</td>\n",
              "      <td>...</td>\n",
              "      <td>0.0</td>\n",
              "      <td>0.0</td>\n",
              "      <td>0.0</td>\n",
              "      <td>0.0</td>\n",
              "      <td>0.0</td>\n",
              "      <td>0.0</td>\n",
              "      <td>0.0</td>\n",
              "      <td>0.0</td>\n",
              "      <td>0.0</td>\n",
              "      <td>0.0</td>\n",
              "    </tr>\n",
              "    <tr>\n",
              "      <th>1</th>\n",
              "      <td>0.960114</td>\n",
              "      <td>0.863248</td>\n",
              "      <td>0.461538</td>\n",
              "      <td>0.196581</td>\n",
              "      <td>0.094017</td>\n",
              "      <td>0.125356</td>\n",
              "      <td>0.099715</td>\n",
              "      <td>0.088319</td>\n",
              "      <td>0.074074</td>\n",
              "      <td>0.082621</td>\n",
              "      <td>...</td>\n",
              "      <td>0.0</td>\n",
              "      <td>0.0</td>\n",
              "      <td>0.0</td>\n",
              "      <td>0.0</td>\n",
              "      <td>0.0</td>\n",
              "      <td>0.0</td>\n",
              "      <td>0.0</td>\n",
              "      <td>0.0</td>\n",
              "      <td>0.0</td>\n",
              "      <td>0.0</td>\n",
              "    </tr>\n",
              "    <tr>\n",
              "      <th>2</th>\n",
              "      <td>1.000000</td>\n",
              "      <td>0.659459</td>\n",
              "      <td>0.186486</td>\n",
              "      <td>0.070270</td>\n",
              "      <td>0.070270</td>\n",
              "      <td>0.059459</td>\n",
              "      <td>0.056757</td>\n",
              "      <td>0.043243</td>\n",
              "      <td>0.054054</td>\n",
              "      <td>0.045946</td>\n",
              "      <td>...</td>\n",
              "      <td>0.0</td>\n",
              "      <td>0.0</td>\n",
              "      <td>0.0</td>\n",
              "      <td>0.0</td>\n",
              "      <td>0.0</td>\n",
              "      <td>0.0</td>\n",
              "      <td>0.0</td>\n",
              "      <td>0.0</td>\n",
              "      <td>0.0</td>\n",
              "      <td>0.0</td>\n",
              "    </tr>\n",
              "    <tr>\n",
              "      <th>3</th>\n",
              "      <td>0.925414</td>\n",
              "      <td>0.665746</td>\n",
              "      <td>0.541436</td>\n",
              "      <td>0.276243</td>\n",
              "      <td>0.196133</td>\n",
              "      <td>0.077348</td>\n",
              "      <td>0.071823</td>\n",
              "      <td>0.060773</td>\n",
              "      <td>0.066298</td>\n",
              "      <td>0.058011</td>\n",
              "      <td>...</td>\n",
              "      <td>0.0</td>\n",
              "      <td>0.0</td>\n",
              "      <td>0.0</td>\n",
              "      <td>0.0</td>\n",
              "      <td>0.0</td>\n",
              "      <td>0.0</td>\n",
              "      <td>0.0</td>\n",
              "      <td>0.0</td>\n",
              "      <td>0.0</td>\n",
              "      <td>0.0</td>\n",
              "    </tr>\n",
              "    <tr>\n",
              "      <th>4</th>\n",
              "      <td>0.967136</td>\n",
              "      <td>1.000000</td>\n",
              "      <td>0.830986</td>\n",
              "      <td>0.586854</td>\n",
              "      <td>0.356808</td>\n",
              "      <td>0.248826</td>\n",
              "      <td>0.145540</td>\n",
              "      <td>0.089202</td>\n",
              "      <td>0.117371</td>\n",
              "      <td>0.150235</td>\n",
              "      <td>...</td>\n",
              "      <td>0.0</td>\n",
              "      <td>0.0</td>\n",
              "      <td>0.0</td>\n",
              "      <td>0.0</td>\n",
              "      <td>0.0</td>\n",
              "      <td>0.0</td>\n",
              "      <td>0.0</td>\n",
              "      <td>0.0</td>\n",
              "      <td>0.0</td>\n",
              "      <td>0.0</td>\n",
              "    </tr>\n",
              "  </tbody>\n",
              "</table>\n",
              "<p>5 rows × 188 columns</p>\n",
              "</div>"
            ],
            "text/plain": [
              "        0         1         2         3         4         5         6    \\\n",
              "0  0.977941  0.926471  0.681373  0.245098  0.154412  0.191176  0.151961   \n",
              "1  0.960114  0.863248  0.461538  0.196581  0.094017  0.125356  0.099715   \n",
              "2  1.000000  0.659459  0.186486  0.070270  0.070270  0.059459  0.056757   \n",
              "3  0.925414  0.665746  0.541436  0.276243  0.196133  0.077348  0.071823   \n",
              "4  0.967136  1.000000  0.830986  0.586854  0.356808  0.248826  0.145540   \n",
              "\n",
              "        7         8         9    ...  178  179  180  181  182  183  184  185  \\\n",
              "0  0.085784  0.058824  0.049020  ...  0.0  0.0  0.0  0.0  0.0  0.0  0.0  0.0   \n",
              "1  0.088319  0.074074  0.082621  ...  0.0  0.0  0.0  0.0  0.0  0.0  0.0  0.0   \n",
              "2  0.043243  0.054054  0.045946  ...  0.0  0.0  0.0  0.0  0.0  0.0  0.0  0.0   \n",
              "3  0.060773  0.066298  0.058011  ...  0.0  0.0  0.0  0.0  0.0  0.0  0.0  0.0   \n",
              "4  0.089202  0.117371  0.150235  ...  0.0  0.0  0.0  0.0  0.0  0.0  0.0  0.0   \n",
              "\n",
              "   186  187  \n",
              "0  0.0  0.0  \n",
              "1  0.0  0.0  \n",
              "2  0.0  0.0  \n",
              "3  0.0  0.0  \n",
              "4  0.0  0.0  \n",
              "\n",
              "[5 rows x 188 columns]"
            ]
          },
          "execution_count": 3,
          "metadata": {},
          "output_type": "execute_result"
        }
      ],
      "source": [
        "df.head()"
      ]
    },
    {
      "cell_type": "markdown",
      "metadata": {
        "id": "6c8Kj8S9gq5l"
      },
      "source": [
        "**Dataset Info : **"
      ]
    },
    {
      "cell_type": "markdown",
      "metadata": {
        "id": "ADf3yEMK2Mmy"
      },
      "source": [
        "Arrhythmia Dataset\n",
        "\n",
        "Number of Samples: 109446\n",
        "\n",
        "Number of Categories: 5\n",
        "\n",
        "Sampling Frequency: 125Hz\n",
        "\n",
        "Classes: ['N': 0, 'S': 1, 'V': 2, 'F': 3, 'Q': 4]\n",
        "\n",
        "-N : Non-ecotic beats (normal beat)\n",
        "\n",
        "-S : Supraventricular ectopic beats\n",
        "\n",
        "-V : Ventricular ectopic beats\n",
        "\n",
        "-F : Fusion Beats\n",
        "\n",
        "-Q : Unknown Beats"
      ]
    },
    {
      "cell_type": "markdown",
      "metadata": {
        "id": "4VlR9h5ag5Dn"
      },
      "source": [
        "Samples on each classes"
      ]
    },
    {
      "cell_type": "code",
      "execution_count": 4,
      "metadata": {
        "colab": {
          "base_uri": "https://localhost:8080/"
        },
        "id": "Zq18s_U7BStC",
        "outputId": "639225e9-46d4-4991-e0d7-62db522080e3"
      },
      "outputs": [
        {
          "data": {
            "text/plain": [
              "187\n",
              "0    90589\n",
              "4     8039\n",
              "2     7236\n",
              "1     2779\n",
              "3      803\n",
              "Name: count, dtype: int64"
            ]
          },
          "execution_count": 4,
          "metadata": {},
          "output_type": "execute_result"
        }
      ],
      "source": [
        "df[187]=df[187].astype(int)\n",
        "df[187].value_counts()"
      ]
    },
    {
      "cell_type": "code",
      "execution_count": 5,
      "metadata": {
        "id": "mmN_IUE3BV7_"
      },
      "outputs": [],
      "source": [
        "X=df.iloc[:,:-1]\n",
        "y=df.iloc[:, -1].astype(int)"
      ]
    },
    {
      "cell_type": "markdown",
      "metadata": {
        "id": "dYkGYrxU3M-E"
      },
      "source": [
        "Splitting the Dataset into train and test values"
      ]
    },
    {
      "cell_type": "code",
      "execution_count": 6,
      "metadata": {
        "id": "vd3qMlT1BWGe"
      },
      "outputs": [],
      "source": [
        "from sklearn.model_selection import train_test_split\n",
        "X_train,X_test,y_train,y_test=train_test_split(X,y,test_size=0.3,random_state=42,shuffle=True, stratify=y)"
      ]
    },
    {
      "cell_type": "code",
      "execution_count": 7,
      "metadata": {
        "colab": {
          "base_uri": "https://localhost:8080/"
        },
        "id": "E2K0CZ0uWaQ_",
        "outputId": "413878e3-9f2f-4078-e220-ac4ba640fa82"
      },
      "outputs": [
        {
          "name": "stdout",
          "output_type": "stream",
          "text": [
            "X_train (76612, 187)\n",
            "y_train (76612,)\n",
            "X_test (32834, 187)\n",
            "y_test (32834,)\n"
          ]
        }
      ],
      "source": [
        "print(\"X_train\", X_train.shape)\n",
        "print(\"y_train\", y_train.shape)\n",
        "print(\"X_test\", X_test.shape)\n",
        "print(\"y_test\", y_test.shape)"
      ]
    },
    {
      "cell_type": "markdown",
      "metadata": {
        "id": "q9Dhubnn3Edr"
      },
      "source": [
        "Applying the ADASYN Algorithm to handle imbalanced dataset"
      ]
    },
    {
      "cell_type": "code",
      "execution_count": 8,
      "metadata": {
        "id": "RUjFQ1tzBWDN"
      },
      "outputs": [],
      "source": [
        "asy = ADASYN(random_state=42)\n",
        "X_res, y_res = asy.fit_resample(X_train, y_train)"
      ]
    },
    {
      "cell_type": "markdown",
      "metadata": {
        "id": "nZAzg0XB3VK2"
      },
      "source": [
        "Shape of Train and Test values"
      ]
    },
    {
      "cell_type": "code",
      "execution_count": 9,
      "metadata": {
        "id": "CloB9toIBWJA"
      },
      "outputs": [],
      "source": [
        "\n",
        "X_train=np.array(X_res)\n",
        "X_test=np.array(X_test)\n",
        "y_train=np.array(y_res)\n",
        "y_test=np.array(y_test)"
      ]
    },
    {
      "cell_type": "code",
      "execution_count": 10,
      "metadata": {
        "colab": {
          "base_uri": "https://localhost:8080/"
        },
        "id": "pmiE8DjifxjG",
        "outputId": "ca67fa48-e33e-4796-952b-a0e280c50f85"
      },
      "outputs": [
        {
          "name": "stdout",
          "output_type": "stream",
          "text": [
            "X_train (317133, 187)\n",
            "y_train (317133,)\n",
            "X_test (32834, 187)\n",
            "y_test (32834,)\n"
          ]
        }
      ],
      "source": [
        "\n",
        "print(\"X_train\", X_train.shape)\n",
        "print(\"y_train\", y_train.shape)\n",
        "print(\"X_test\", X_test.shape)\n",
        "print(\"y_test\", y_test.shape)"
      ]
    },
    {
      "cell_type": "markdown",
      "metadata": {
        "id": "g7aXZqFR3916"
      },
      "source": [
        "Expanding the X_train and X_test Dimensions for model architecture to match"
      ]
    },
    {
      "cell_type": "code",
      "execution_count": 11,
      "metadata": {
        "id": "a57_J9m8BWOB"
      },
      "outputs": [],
      "source": [
        "X_train = np.expand_dims(X_train, 2)\n",
        "X_test = np.expand_dims(X_test, 2)"
      ]
    },
    {
      "cell_type": "markdown",
      "metadata": {
        "id": "piX0P1974GSj"
      },
      "source": [
        "Converting the Targets into categorical form"
      ]
    },
    {
      "cell_type": "code",
      "execution_count": 12,
      "metadata": {
        "id": "iZC5xDNHhZDt"
      },
      "outputs": [],
      "source": [
        "from tensorflow.keras.utils import to_categorical\n",
        "y_train=to_categorical(y_train)\n",
        "y_test=to_categorical(y_test)"
      ]
    },
    {
      "cell_type": "markdown",
      "metadata": {
        "id": "B_atmKFN4G2z"
      },
      "source": [
        "After expanding the dimension of train and test values"
      ]
    },
    {
      "cell_type": "code",
      "execution_count": 13,
      "metadata": {
        "colab": {
          "base_uri": "https://localhost:8080/"
        },
        "id": "9v5H7NnwdBLl",
        "outputId": "f7e26e35-a648-4924-e434-0cb974639525"
      },
      "outputs": [
        {
          "name": "stdout",
          "output_type": "stream",
          "text": [
            "X_train (317133, 187, 1)\n",
            "y_train (317133, 5)\n",
            "X_test (32834, 187, 1)\n",
            "y_test (32834, 5)\n"
          ]
        }
      ],
      "source": [
        "\n",
        "print(\"X_train\", X_train.shape)\n",
        "print(\"y_train\", y_train.shape)\n",
        "print(\"X_test\", X_test.shape)\n",
        "print(\"y_test\", y_test.shape)"
      ]
    },
    {
      "cell_type": "markdown",
      "metadata": {
        "id": "yTYoYAVP4bn0"
      },
      "source": [
        "Importing the Libraries for Neural Network"
      ]
    },
    {
      "cell_type": "code",
      "execution_count": 14,
      "metadata": {
        "id": "AS-bBF-ShZSn"
      },
      "outputs": [],
      "source": [
        "import tensorflow as tf\n",
        "from tensorflow.keras.models import Model,model_from_json\n",
        "from tensorflow.keras.layers import Input, Dense, Convolution1D, MaxPool1D,Conv1D, MaxPooling1D, Softmax, Add, Flatten, Activation , Dropout, BatchNormalization\n",
        "from tensorflow.keras import backend as K\n",
        "from tensorflow.keras.optimizers import Adam\n",
        "from tensorflow.keras.callbacks import Callback, LearningRateScheduler, ModelCheckpoint, EarlyStopping"
      ]
    },
    {
      "cell_type": "markdown",
      "metadata": {
        "id": "56tvAmKT4ibJ"
      },
      "source": [
        "Neural Network 1"
      ]
    },
    {
      "cell_type": "code",
      "execution_count": 15,
      "metadata": {
        "colab": {
          "base_uri": "https://localhost:8080/"
        },
        "id": "XmAjgrwss1BO",
        "outputId": "5a91b979-9d0c-4f83-bfef-7b3c00f4987c"
      },
      "outputs": [
        {
          "name": "stdout",
          "output_type": "stream",
          "text": [
            "WARNING:tensorflow:From c:\\Python311\\Lib\\site-packages\\keras\\src\\backend\\common\\global_state.py:82: The name tf.reset_default_graph is deprecated. Please use tf.compat.v1.reset_default_graph instead.\n",
            "\n"
          ]
        },
        {
          "data": {
            "text/html": [
              "<pre style=\"white-space:pre;overflow-x:auto;line-height:normal;font-family:Menlo,'DejaVu Sans Mono',consolas,'Courier New',monospace\"><span style=\"font-weight: bold\">Model: \"functional_1\"</span>\n",
              "</pre>\n"
            ],
            "text/plain": [
              "\u001b[1mModel: \"functional_1\"\u001b[0m\n"
            ]
          },
          "metadata": {},
          "output_type": "display_data"
        },
        {
          "data": {
            "text/html": [
              "<pre style=\"white-space:pre;overflow-x:auto;line-height:normal;font-family:Menlo,'DejaVu Sans Mono',consolas,'Courier New',monospace\">┏━━━━━━━━━━━━━━━━━━━━━┳━━━━━━━━━━━━━━━━━━━┳━━━━━━━━━━━━┳━━━━━━━━━━━━━━━━━━━┓\n",
              "┃<span style=\"font-weight: bold\"> Layer (type)        </span>┃<span style=\"font-weight: bold\"> Output Shape      </span>┃<span style=\"font-weight: bold\">    Param # </span>┃<span style=\"font-weight: bold\"> Connected to      </span>┃\n",
              "┡━━━━━━━━━━━━━━━━━━━━━╇━━━━━━━━━━━━━━━━━━━╇━━━━━━━━━━━━╇━━━━━━━━━━━━━━━━━━━┩\n",
              "│ input_layer         │ (<span style=\"color: #00d7ff; text-decoration-color: #00d7ff\">None</span>, <span style=\"color: #00af00; text-decoration-color: #00af00\">187</span>, <span style=\"color: #00af00; text-decoration-color: #00af00\">1</span>)    │          <span style=\"color: #00af00; text-decoration-color: #00af00\">0</span> │ -                 │\n",
              "│ (<span style=\"color: #0087ff; text-decoration-color: #0087ff\">InputLayer</span>)        │                   │            │                   │\n",
              "├─────────────────────┼───────────────────┼────────────┼───────────────────┤\n",
              "│ conv1d (<span style=\"color: #0087ff; text-decoration-color: #0087ff\">Conv1D</span>)     │ (<span style=\"color: #00d7ff; text-decoration-color: #00d7ff\">None</span>, <span style=\"color: #00af00; text-decoration-color: #00af00\">183</span>, <span style=\"color: #00af00; text-decoration-color: #00af00\">32</span>)   │        <span style=\"color: #00af00; text-decoration-color: #00af00\">192</span> │ input_layer[<span style=\"color: #00af00; text-decoration-color: #00af00\">0</span>][<span style=\"color: #00af00; text-decoration-color: #00af00\">0</span>] │\n",
              "├─────────────────────┼───────────────────┼────────────┼───────────────────┤\n",
              "│ conv1d_1 (<span style=\"color: #0087ff; text-decoration-color: #0087ff\">Conv1D</span>)   │ (<span style=\"color: #00d7ff; text-decoration-color: #00d7ff\">None</span>, <span style=\"color: #00af00; text-decoration-color: #00af00\">183</span>, <span style=\"color: #00af00; text-decoration-color: #00af00\">32</span>)   │      <span style=\"color: #00af00; text-decoration-color: #00af00\">5,152</span> │ conv1d[<span style=\"color: #00af00; text-decoration-color: #00af00\">0</span>][<span style=\"color: #00af00; text-decoration-color: #00af00\">0</span>]      │\n",
              "├─────────────────────┼───────────────────┼────────────┼───────────────────┤\n",
              "│ activation          │ (<span style=\"color: #00d7ff; text-decoration-color: #00d7ff\">None</span>, <span style=\"color: #00af00; text-decoration-color: #00af00\">183</span>, <span style=\"color: #00af00; text-decoration-color: #00af00\">32</span>)   │          <span style=\"color: #00af00; text-decoration-color: #00af00\">0</span> │ conv1d_1[<span style=\"color: #00af00; text-decoration-color: #00af00\">0</span>][<span style=\"color: #00af00; text-decoration-color: #00af00\">0</span>]    │\n",
              "│ (<span style=\"color: #0087ff; text-decoration-color: #0087ff\">Activation</span>)        │                   │            │                   │\n",
              "├─────────────────────┼───────────────────┼────────────┼───────────────────┤\n",
              "│ conv1d_2 (<span style=\"color: #0087ff; text-decoration-color: #0087ff\">Conv1D</span>)   │ (<span style=\"color: #00d7ff; text-decoration-color: #00d7ff\">None</span>, <span style=\"color: #00af00; text-decoration-color: #00af00\">183</span>, <span style=\"color: #00af00; text-decoration-color: #00af00\">32</span>)   │      <span style=\"color: #00af00; text-decoration-color: #00af00\">5,152</span> │ activation[<span style=\"color: #00af00; text-decoration-color: #00af00\">0</span>][<span style=\"color: #00af00; text-decoration-color: #00af00\">0</span>]  │\n",
              "├─────────────────────┼───────────────────┼────────────┼───────────────────┤\n",
              "│ add (<span style=\"color: #0087ff; text-decoration-color: #0087ff\">Add</span>)           │ (<span style=\"color: #00d7ff; text-decoration-color: #00d7ff\">None</span>, <span style=\"color: #00af00; text-decoration-color: #00af00\">183</span>, <span style=\"color: #00af00; text-decoration-color: #00af00\">32</span>)   │          <span style=\"color: #00af00; text-decoration-color: #00af00\">0</span> │ conv1d_2[<span style=\"color: #00af00; text-decoration-color: #00af00\">0</span>][<span style=\"color: #00af00; text-decoration-color: #00af00\">0</span>],   │\n",
              "│                     │                   │            │ conv1d[<span style=\"color: #00af00; text-decoration-color: #00af00\">0</span>][<span style=\"color: #00af00; text-decoration-color: #00af00\">0</span>]      │\n",
              "├─────────────────────┼───────────────────┼────────────┼───────────────────┤\n",
              "│ activation_3        │ (<span style=\"color: #00d7ff; text-decoration-color: #00d7ff\">None</span>, <span style=\"color: #00af00; text-decoration-color: #00af00\">183</span>, <span style=\"color: #00af00; text-decoration-color: #00af00\">32</span>)   │          <span style=\"color: #00af00; text-decoration-color: #00af00\">0</span> │ add[<span style=\"color: #00af00; text-decoration-color: #00af00\">0</span>][<span style=\"color: #00af00; text-decoration-color: #00af00\">0</span>]         │\n",
              "│ (<span style=\"color: #0087ff; text-decoration-color: #0087ff\">Activation</span>)        │                   │            │                   │\n",
              "├─────────────────────┼───────────────────┼────────────┼───────────────────┤\n",
              "│ max_pooling1d_1     │ (<span style=\"color: #00d7ff; text-decoration-color: #00d7ff\">None</span>, <span style=\"color: #00af00; text-decoration-color: #00af00\">90</span>, <span style=\"color: #00af00; text-decoration-color: #00af00\">32</span>)    │          <span style=\"color: #00af00; text-decoration-color: #00af00\">0</span> │ activation_3[<span style=\"color: #00af00; text-decoration-color: #00af00\">0</span>][<span style=\"color: #00af00; text-decoration-color: #00af00\">…</span> │\n",
              "│ (<span style=\"color: #0087ff; text-decoration-color: #0087ff\">MaxPooling1D</span>)      │                   │            │                   │\n",
              "├─────────────────────┼───────────────────┼────────────┼───────────────────┤\n",
              "│ conv1d_5 (<span style=\"color: #0087ff; text-decoration-color: #0087ff\">Conv1D</span>)   │ (<span style=\"color: #00d7ff; text-decoration-color: #00d7ff\">None</span>, <span style=\"color: #00af00; text-decoration-color: #00af00\">90</span>, <span style=\"color: #00af00; text-decoration-color: #00af00\">32</span>)    │      <span style=\"color: #00af00; text-decoration-color: #00af00\">5,152</span> │ max_pooling1d_1[<span style=\"color: #00af00; text-decoration-color: #00af00\">…</span> │\n",
              "├─────────────────────┼───────────────────┼────────────┼───────────────────┤\n",
              "│ activation_4        │ (<span style=\"color: #00d7ff; text-decoration-color: #00d7ff\">None</span>, <span style=\"color: #00af00; text-decoration-color: #00af00\">90</span>, <span style=\"color: #00af00; text-decoration-color: #00af00\">32</span>)    │          <span style=\"color: #00af00; text-decoration-color: #00af00\">0</span> │ conv1d_5[<span style=\"color: #00af00; text-decoration-color: #00af00\">0</span>][<span style=\"color: #00af00; text-decoration-color: #00af00\">0</span>]    │\n",
              "│ (<span style=\"color: #0087ff; text-decoration-color: #0087ff\">Activation</span>)        │                   │            │                   │\n",
              "├─────────────────────┼───────────────────┼────────────┼───────────────────┤\n",
              "│ conv1d_6 (<span style=\"color: #0087ff; text-decoration-color: #0087ff\">Conv1D</span>)   │ (<span style=\"color: #00d7ff; text-decoration-color: #00d7ff\">None</span>, <span style=\"color: #00af00; text-decoration-color: #00af00\">90</span>, <span style=\"color: #00af00; text-decoration-color: #00af00\">32</span>)    │      <span style=\"color: #00af00; text-decoration-color: #00af00\">5,152</span> │ activation_4[<span style=\"color: #00af00; text-decoration-color: #00af00\">0</span>][<span style=\"color: #00af00; text-decoration-color: #00af00\">…</span> │\n",
              "├─────────────────────┼───────────────────┼────────────┼───────────────────┤\n",
              "│ add_2 (<span style=\"color: #0087ff; text-decoration-color: #0087ff\">Add</span>)         │ (<span style=\"color: #00d7ff; text-decoration-color: #00d7ff\">None</span>, <span style=\"color: #00af00; text-decoration-color: #00af00\">90</span>, <span style=\"color: #00af00; text-decoration-color: #00af00\">32</span>)    │          <span style=\"color: #00af00; text-decoration-color: #00af00\">0</span> │ conv1d_6[<span style=\"color: #00af00; text-decoration-color: #00af00\">0</span>][<span style=\"color: #00af00; text-decoration-color: #00af00\">0</span>],   │\n",
              "│                     │                   │            │ max_pooling1d_1[<span style=\"color: #00af00; text-decoration-color: #00af00\">…</span> │\n",
              "├─────────────────────┼───────────────────┼────────────┼───────────────────┤\n",
              "│ activation_5        │ (<span style=\"color: #00d7ff; text-decoration-color: #00d7ff\">None</span>, <span style=\"color: #00af00; text-decoration-color: #00af00\">90</span>, <span style=\"color: #00af00; text-decoration-color: #00af00\">32</span>)    │          <span style=\"color: #00af00; text-decoration-color: #00af00\">0</span> │ add_2[<span style=\"color: #00af00; text-decoration-color: #00af00\">0</span>][<span style=\"color: #00af00; text-decoration-color: #00af00\">0</span>]       │\n",
              "│ (<span style=\"color: #0087ff; text-decoration-color: #0087ff\">Activation</span>)        │                   │            │                   │\n",
              "├─────────────────────┼───────────────────┼────────────┼───────────────────┤\n",
              "│ max_pooling1d_2     │ (<span style=\"color: #00d7ff; text-decoration-color: #00d7ff\">None</span>, <span style=\"color: #00af00; text-decoration-color: #00af00\">43</span>, <span style=\"color: #00af00; text-decoration-color: #00af00\">32</span>)    │          <span style=\"color: #00af00; text-decoration-color: #00af00\">0</span> │ activation_5[<span style=\"color: #00af00; text-decoration-color: #00af00\">0</span>][<span style=\"color: #00af00; text-decoration-color: #00af00\">…</span> │\n",
              "│ (<span style=\"color: #0087ff; text-decoration-color: #0087ff\">MaxPooling1D</span>)      │                   │            │                   │\n",
              "├─────────────────────┼───────────────────┼────────────┼───────────────────┤\n",
              "│ conv1d_7 (<span style=\"color: #0087ff; text-decoration-color: #0087ff\">Conv1D</span>)   │ (<span style=\"color: #00d7ff; text-decoration-color: #00d7ff\">None</span>, <span style=\"color: #00af00; text-decoration-color: #00af00\">43</span>, <span style=\"color: #00af00; text-decoration-color: #00af00\">32</span>)    │      <span style=\"color: #00af00; text-decoration-color: #00af00\">5,152</span> │ max_pooling1d_2[<span style=\"color: #00af00; text-decoration-color: #00af00\">…</span> │\n",
              "├─────────────────────┼───────────────────┼────────────┼───────────────────┤\n",
              "│ activation_6        │ (<span style=\"color: #00d7ff; text-decoration-color: #00d7ff\">None</span>, <span style=\"color: #00af00; text-decoration-color: #00af00\">43</span>, <span style=\"color: #00af00; text-decoration-color: #00af00\">32</span>)    │          <span style=\"color: #00af00; text-decoration-color: #00af00\">0</span> │ conv1d_7[<span style=\"color: #00af00; text-decoration-color: #00af00\">0</span>][<span style=\"color: #00af00; text-decoration-color: #00af00\">0</span>]    │\n",
              "│ (<span style=\"color: #0087ff; text-decoration-color: #0087ff\">Activation</span>)        │                   │            │                   │\n",
              "├─────────────────────┼───────────────────┼────────────┼───────────────────┤\n",
              "│ conv1d_8 (<span style=\"color: #0087ff; text-decoration-color: #0087ff\">Conv1D</span>)   │ (<span style=\"color: #00d7ff; text-decoration-color: #00d7ff\">None</span>, <span style=\"color: #00af00; text-decoration-color: #00af00\">43</span>, <span style=\"color: #00af00; text-decoration-color: #00af00\">32</span>)    │      <span style=\"color: #00af00; text-decoration-color: #00af00\">5,152</span> │ activation_6[<span style=\"color: #00af00; text-decoration-color: #00af00\">0</span>][<span style=\"color: #00af00; text-decoration-color: #00af00\">…</span> │\n",
              "├─────────────────────┼───────────────────┼────────────┼───────────────────┤\n",
              "│ add_3 (<span style=\"color: #0087ff; text-decoration-color: #0087ff\">Add</span>)         │ (<span style=\"color: #00d7ff; text-decoration-color: #00d7ff\">None</span>, <span style=\"color: #00af00; text-decoration-color: #00af00\">43</span>, <span style=\"color: #00af00; text-decoration-color: #00af00\">32</span>)    │          <span style=\"color: #00af00; text-decoration-color: #00af00\">0</span> │ conv1d_8[<span style=\"color: #00af00; text-decoration-color: #00af00\">0</span>][<span style=\"color: #00af00; text-decoration-color: #00af00\">0</span>],   │\n",
              "│                     │                   │            │ max_pooling1d_2[<span style=\"color: #00af00; text-decoration-color: #00af00\">…</span> │\n",
              "├─────────────────────┼───────────────────┼────────────┼───────────────────┤\n",
              "│ activation_7        │ (<span style=\"color: #00d7ff; text-decoration-color: #00d7ff\">None</span>, <span style=\"color: #00af00; text-decoration-color: #00af00\">43</span>, <span style=\"color: #00af00; text-decoration-color: #00af00\">32</span>)    │          <span style=\"color: #00af00; text-decoration-color: #00af00\">0</span> │ add_3[<span style=\"color: #00af00; text-decoration-color: #00af00\">0</span>][<span style=\"color: #00af00; text-decoration-color: #00af00\">0</span>]       │\n",
              "│ (<span style=\"color: #0087ff; text-decoration-color: #0087ff\">Activation</span>)        │                   │            │                   │\n",
              "├─────────────────────┼───────────────────┼────────────┼───────────────────┤\n",
              "│ max_pooling1d_3     │ (<span style=\"color: #00d7ff; text-decoration-color: #00d7ff\">None</span>, <span style=\"color: #00af00; text-decoration-color: #00af00\">20</span>, <span style=\"color: #00af00; text-decoration-color: #00af00\">32</span>)    │          <span style=\"color: #00af00; text-decoration-color: #00af00\">0</span> │ activation_7[<span style=\"color: #00af00; text-decoration-color: #00af00\">0</span>][<span style=\"color: #00af00; text-decoration-color: #00af00\">…</span> │\n",
              "│ (<span style=\"color: #0087ff; text-decoration-color: #0087ff\">MaxPooling1D</span>)      │                   │            │                   │\n",
              "├─────────────────────┼───────────────────┼────────────┼───────────────────┤\n",
              "│ conv1d_9 (<span style=\"color: #0087ff; text-decoration-color: #0087ff\">Conv1D</span>)   │ (<span style=\"color: #00d7ff; text-decoration-color: #00d7ff\">None</span>, <span style=\"color: #00af00; text-decoration-color: #00af00\">20</span>, <span style=\"color: #00af00; text-decoration-color: #00af00\">32</span>)    │      <span style=\"color: #00af00; text-decoration-color: #00af00\">5,152</span> │ max_pooling1d_3[<span style=\"color: #00af00; text-decoration-color: #00af00\">…</span> │\n",
              "├─────────────────────┼───────────────────┼────────────┼───────────────────┤\n",
              "│ activation_8        │ (<span style=\"color: #00d7ff; text-decoration-color: #00d7ff\">None</span>, <span style=\"color: #00af00; text-decoration-color: #00af00\">20</span>, <span style=\"color: #00af00; text-decoration-color: #00af00\">32</span>)    │          <span style=\"color: #00af00; text-decoration-color: #00af00\">0</span> │ conv1d_9[<span style=\"color: #00af00; text-decoration-color: #00af00\">0</span>][<span style=\"color: #00af00; text-decoration-color: #00af00\">0</span>]    │\n",
              "│ (<span style=\"color: #0087ff; text-decoration-color: #0087ff\">Activation</span>)        │                   │            │                   │\n",
              "├─────────────────────┼───────────────────┼────────────┼───────────────────┤\n",
              "│ conv1d_10 (<span style=\"color: #0087ff; text-decoration-color: #0087ff\">Conv1D</span>)  │ (<span style=\"color: #00d7ff; text-decoration-color: #00d7ff\">None</span>, <span style=\"color: #00af00; text-decoration-color: #00af00\">20</span>, <span style=\"color: #00af00; text-decoration-color: #00af00\">32</span>)    │      <span style=\"color: #00af00; text-decoration-color: #00af00\">5,152</span> │ activation_8[<span style=\"color: #00af00; text-decoration-color: #00af00\">0</span>][<span style=\"color: #00af00; text-decoration-color: #00af00\">…</span> │\n",
              "├─────────────────────┼───────────────────┼────────────┼───────────────────┤\n",
              "│ add_4 (<span style=\"color: #0087ff; text-decoration-color: #0087ff\">Add</span>)         │ (<span style=\"color: #00d7ff; text-decoration-color: #00d7ff\">None</span>, <span style=\"color: #00af00; text-decoration-color: #00af00\">20</span>, <span style=\"color: #00af00; text-decoration-color: #00af00\">32</span>)    │          <span style=\"color: #00af00; text-decoration-color: #00af00\">0</span> │ conv1d_10[<span style=\"color: #00af00; text-decoration-color: #00af00\">0</span>][<span style=\"color: #00af00; text-decoration-color: #00af00\">0</span>],  │\n",
              "│                     │                   │            │ max_pooling1d_3[<span style=\"color: #00af00; text-decoration-color: #00af00\">…</span> │\n",
              "├─────────────────────┼───────────────────┼────────────┼───────────────────┤\n",
              "│ activation_9        │ (<span style=\"color: #00d7ff; text-decoration-color: #00d7ff\">None</span>, <span style=\"color: #00af00; text-decoration-color: #00af00\">20</span>, <span style=\"color: #00af00; text-decoration-color: #00af00\">32</span>)    │          <span style=\"color: #00af00; text-decoration-color: #00af00\">0</span> │ add_4[<span style=\"color: #00af00; text-decoration-color: #00af00\">0</span>][<span style=\"color: #00af00; text-decoration-color: #00af00\">0</span>]       │\n",
              "│ (<span style=\"color: #0087ff; text-decoration-color: #0087ff\">Activation</span>)        │                   │            │                   │\n",
              "├─────────────────────┼───────────────────┼────────────┼───────────────────┤\n",
              "│ max_pooling1d_4     │ (<span style=\"color: #00d7ff; text-decoration-color: #00d7ff\">None</span>, <span style=\"color: #00af00; text-decoration-color: #00af00\">8</span>, <span style=\"color: #00af00; text-decoration-color: #00af00\">32</span>)     │          <span style=\"color: #00af00; text-decoration-color: #00af00\">0</span> │ activation_9[<span style=\"color: #00af00; text-decoration-color: #00af00\">0</span>][<span style=\"color: #00af00; text-decoration-color: #00af00\">…</span> │\n",
              "│ (<span style=\"color: #0087ff; text-decoration-color: #0087ff\">MaxPooling1D</span>)      │                   │            │                   │\n",
              "├─────────────────────┼───────────────────┼────────────┼───────────────────┤\n",
              "│ flatten (<span style=\"color: #0087ff; text-decoration-color: #0087ff\">Flatten</span>)   │ (<span style=\"color: #00d7ff; text-decoration-color: #00d7ff\">None</span>, <span style=\"color: #00af00; text-decoration-color: #00af00\">256</span>)       │          <span style=\"color: #00af00; text-decoration-color: #00af00\">0</span> │ max_pooling1d_4[<span style=\"color: #00af00; text-decoration-color: #00af00\">…</span> │\n",
              "├─────────────────────┼───────────────────┼────────────┼───────────────────┤\n",
              "│ dense (<span style=\"color: #0087ff; text-decoration-color: #0087ff\">Dense</span>)       │ (<span style=\"color: #00d7ff; text-decoration-color: #00d7ff\">None</span>, <span style=\"color: #00af00; text-decoration-color: #00af00\">32</span>)        │      <span style=\"color: #00af00; text-decoration-color: #00af00\">8,224</span> │ flatten[<span style=\"color: #00af00; text-decoration-color: #00af00\">0</span>][<span style=\"color: #00af00; text-decoration-color: #00af00\">0</span>]     │\n",
              "├─────────────────────┼───────────────────┼────────────┼───────────────────┤\n",
              "│ activation_10       │ (<span style=\"color: #00d7ff; text-decoration-color: #00d7ff\">None</span>, <span style=\"color: #00af00; text-decoration-color: #00af00\">32</span>)        │          <span style=\"color: #00af00; text-decoration-color: #00af00\">0</span> │ dense[<span style=\"color: #00af00; text-decoration-color: #00af00\">0</span>][<span style=\"color: #00af00; text-decoration-color: #00af00\">0</span>]       │\n",
              "│ (<span style=\"color: #0087ff; text-decoration-color: #0087ff\">Activation</span>)        │                   │            │                   │\n",
              "├─────────────────────┼───────────────────┼────────────┼───────────────────┤\n",
              "│ dense_1 (<span style=\"color: #0087ff; text-decoration-color: #0087ff\">Dense</span>)     │ (<span style=\"color: #00d7ff; text-decoration-color: #00d7ff\">None</span>, <span style=\"color: #00af00; text-decoration-color: #00af00\">32</span>)        │      <span style=\"color: #00af00; text-decoration-color: #00af00\">1,056</span> │ activation_10[<span style=\"color: #00af00; text-decoration-color: #00af00\">0</span>]… │\n",
              "├─────────────────────┼───────────────────┼────────────┼───────────────────┤\n",
              "│ dense_2 (<span style=\"color: #0087ff; text-decoration-color: #0087ff\">Dense</span>)     │ (<span style=\"color: #00d7ff; text-decoration-color: #00d7ff\">None</span>, <span style=\"color: #00af00; text-decoration-color: #00af00\">5</span>)         │        <span style=\"color: #00af00; text-decoration-color: #00af00\">165</span> │ dense_1[<span style=\"color: #00af00; text-decoration-color: #00af00\">0</span>][<span style=\"color: #00af00; text-decoration-color: #00af00\">0</span>]     │\n",
              "├─────────────────────┼───────────────────┼────────────┼───────────────────┤\n",
              "│ softmax (<span style=\"color: #0087ff; text-decoration-color: #0087ff\">Softmax</span>)   │ (<span style=\"color: #00d7ff; text-decoration-color: #00d7ff\">None</span>, <span style=\"color: #00af00; text-decoration-color: #00af00\">5</span>)         │          <span style=\"color: #00af00; text-decoration-color: #00af00\">0</span> │ dense_2[<span style=\"color: #00af00; text-decoration-color: #00af00\">0</span>][<span style=\"color: #00af00; text-decoration-color: #00af00\">0</span>]     │\n",
              "└─────────────────────┴───────────────────┴────────────┴───────────────────┘\n",
              "</pre>\n"
            ],
            "text/plain": [
              "┏━━━━━━━━━━━━━━━━━━━━━┳━━━━━━━━━━━━━━━━━━━┳━━━━━━━━━━━━┳━━━━━━━━━━━━━━━━━━━┓\n",
              "┃\u001b[1m \u001b[0m\u001b[1mLayer (type)       \u001b[0m\u001b[1m \u001b[0m┃\u001b[1m \u001b[0m\u001b[1mOutput Shape     \u001b[0m\u001b[1m \u001b[0m┃\u001b[1m \u001b[0m\u001b[1m   Param #\u001b[0m\u001b[1m \u001b[0m┃\u001b[1m \u001b[0m\u001b[1mConnected to     \u001b[0m\u001b[1m \u001b[0m┃\n",
              "┡━━━━━━━━━━━━━━━━━━━━━╇━━━━━━━━━━━━━━━━━━━╇━━━━━━━━━━━━╇━━━━━━━━━━━━━━━━━━━┩\n",
              "│ input_layer         │ (\u001b[38;5;45mNone\u001b[0m, \u001b[38;5;34m187\u001b[0m, \u001b[38;5;34m1\u001b[0m)    │          \u001b[38;5;34m0\u001b[0m │ -                 │\n",
              "│ (\u001b[38;5;33mInputLayer\u001b[0m)        │                   │            │                   │\n",
              "├─────────────────────┼───────────────────┼────────────┼───────────────────┤\n",
              "│ conv1d (\u001b[38;5;33mConv1D\u001b[0m)     │ (\u001b[38;5;45mNone\u001b[0m, \u001b[38;5;34m183\u001b[0m, \u001b[38;5;34m32\u001b[0m)   │        \u001b[38;5;34m192\u001b[0m │ input_layer[\u001b[38;5;34m0\u001b[0m][\u001b[38;5;34m0\u001b[0m] │\n",
              "├─────────────────────┼───────────────────┼────────────┼───────────────────┤\n",
              "│ conv1d_1 (\u001b[38;5;33mConv1D\u001b[0m)   │ (\u001b[38;5;45mNone\u001b[0m, \u001b[38;5;34m183\u001b[0m, \u001b[38;5;34m32\u001b[0m)   │      \u001b[38;5;34m5,152\u001b[0m │ conv1d[\u001b[38;5;34m0\u001b[0m][\u001b[38;5;34m0\u001b[0m]      │\n",
              "├─────────────────────┼───────────────────┼────────────┼───────────────────┤\n",
              "│ activation          │ (\u001b[38;5;45mNone\u001b[0m, \u001b[38;5;34m183\u001b[0m, \u001b[38;5;34m32\u001b[0m)   │          \u001b[38;5;34m0\u001b[0m │ conv1d_1[\u001b[38;5;34m0\u001b[0m][\u001b[38;5;34m0\u001b[0m]    │\n",
              "│ (\u001b[38;5;33mActivation\u001b[0m)        │                   │            │                   │\n",
              "├─────────────────────┼───────────────────┼────────────┼───────────────────┤\n",
              "│ conv1d_2 (\u001b[38;5;33mConv1D\u001b[0m)   │ (\u001b[38;5;45mNone\u001b[0m, \u001b[38;5;34m183\u001b[0m, \u001b[38;5;34m32\u001b[0m)   │      \u001b[38;5;34m5,152\u001b[0m │ activation[\u001b[38;5;34m0\u001b[0m][\u001b[38;5;34m0\u001b[0m]  │\n",
              "├─────────────────────┼───────────────────┼────────────┼───────────────────┤\n",
              "│ add (\u001b[38;5;33mAdd\u001b[0m)           │ (\u001b[38;5;45mNone\u001b[0m, \u001b[38;5;34m183\u001b[0m, \u001b[38;5;34m32\u001b[0m)   │          \u001b[38;5;34m0\u001b[0m │ conv1d_2[\u001b[38;5;34m0\u001b[0m][\u001b[38;5;34m0\u001b[0m],   │\n",
              "│                     │                   │            │ conv1d[\u001b[38;5;34m0\u001b[0m][\u001b[38;5;34m0\u001b[0m]      │\n",
              "├─────────────────────┼───────────────────┼────────────┼───────────────────┤\n",
              "│ activation_3        │ (\u001b[38;5;45mNone\u001b[0m, \u001b[38;5;34m183\u001b[0m, \u001b[38;5;34m32\u001b[0m)   │          \u001b[38;5;34m0\u001b[0m │ add[\u001b[38;5;34m0\u001b[0m][\u001b[38;5;34m0\u001b[0m]         │\n",
              "│ (\u001b[38;5;33mActivation\u001b[0m)        │                   │            │                   │\n",
              "├─────────────────────┼───────────────────┼────────────┼───────────────────┤\n",
              "│ max_pooling1d_1     │ (\u001b[38;5;45mNone\u001b[0m, \u001b[38;5;34m90\u001b[0m, \u001b[38;5;34m32\u001b[0m)    │          \u001b[38;5;34m0\u001b[0m │ activation_3[\u001b[38;5;34m0\u001b[0m][\u001b[38;5;34m…\u001b[0m │\n",
              "│ (\u001b[38;5;33mMaxPooling1D\u001b[0m)      │                   │            │                   │\n",
              "├─────────────────────┼───────────────────┼────────────┼───────────────────┤\n",
              "│ conv1d_5 (\u001b[38;5;33mConv1D\u001b[0m)   │ (\u001b[38;5;45mNone\u001b[0m, \u001b[38;5;34m90\u001b[0m, \u001b[38;5;34m32\u001b[0m)    │      \u001b[38;5;34m5,152\u001b[0m │ max_pooling1d_1[\u001b[38;5;34m…\u001b[0m │\n",
              "├─────────────────────┼───────────────────┼────────────┼───────────────────┤\n",
              "│ activation_4        │ (\u001b[38;5;45mNone\u001b[0m, \u001b[38;5;34m90\u001b[0m, \u001b[38;5;34m32\u001b[0m)    │          \u001b[38;5;34m0\u001b[0m │ conv1d_5[\u001b[38;5;34m0\u001b[0m][\u001b[38;5;34m0\u001b[0m]    │\n",
              "│ (\u001b[38;5;33mActivation\u001b[0m)        │                   │            │                   │\n",
              "├─────────────────────┼───────────────────┼────────────┼───────────────────┤\n",
              "│ conv1d_6 (\u001b[38;5;33mConv1D\u001b[0m)   │ (\u001b[38;5;45mNone\u001b[0m, \u001b[38;5;34m90\u001b[0m, \u001b[38;5;34m32\u001b[0m)    │      \u001b[38;5;34m5,152\u001b[0m │ activation_4[\u001b[38;5;34m0\u001b[0m][\u001b[38;5;34m…\u001b[0m │\n",
              "├─────────────────────┼───────────────────┼────────────┼───────────────────┤\n",
              "│ add_2 (\u001b[38;5;33mAdd\u001b[0m)         │ (\u001b[38;5;45mNone\u001b[0m, \u001b[38;5;34m90\u001b[0m, \u001b[38;5;34m32\u001b[0m)    │          \u001b[38;5;34m0\u001b[0m │ conv1d_6[\u001b[38;5;34m0\u001b[0m][\u001b[38;5;34m0\u001b[0m],   │\n",
              "│                     │                   │            │ max_pooling1d_1[\u001b[38;5;34m…\u001b[0m │\n",
              "├─────────────────────┼───────────────────┼────────────┼───────────────────┤\n",
              "│ activation_5        │ (\u001b[38;5;45mNone\u001b[0m, \u001b[38;5;34m90\u001b[0m, \u001b[38;5;34m32\u001b[0m)    │          \u001b[38;5;34m0\u001b[0m │ add_2[\u001b[38;5;34m0\u001b[0m][\u001b[38;5;34m0\u001b[0m]       │\n",
              "│ (\u001b[38;5;33mActivation\u001b[0m)        │                   │            │                   │\n",
              "├─────────────────────┼───────────────────┼────────────┼───────────────────┤\n",
              "│ max_pooling1d_2     │ (\u001b[38;5;45mNone\u001b[0m, \u001b[38;5;34m43\u001b[0m, \u001b[38;5;34m32\u001b[0m)    │          \u001b[38;5;34m0\u001b[0m │ activation_5[\u001b[38;5;34m0\u001b[0m][\u001b[38;5;34m…\u001b[0m │\n",
              "│ (\u001b[38;5;33mMaxPooling1D\u001b[0m)      │                   │            │                   │\n",
              "├─────────────────────┼───────────────────┼────────────┼───────────────────┤\n",
              "│ conv1d_7 (\u001b[38;5;33mConv1D\u001b[0m)   │ (\u001b[38;5;45mNone\u001b[0m, \u001b[38;5;34m43\u001b[0m, \u001b[38;5;34m32\u001b[0m)    │      \u001b[38;5;34m5,152\u001b[0m │ max_pooling1d_2[\u001b[38;5;34m…\u001b[0m │\n",
              "├─────────────────────┼───────────────────┼────────────┼───────────────────┤\n",
              "│ activation_6        │ (\u001b[38;5;45mNone\u001b[0m, \u001b[38;5;34m43\u001b[0m, \u001b[38;5;34m32\u001b[0m)    │          \u001b[38;5;34m0\u001b[0m │ conv1d_7[\u001b[38;5;34m0\u001b[0m][\u001b[38;5;34m0\u001b[0m]    │\n",
              "│ (\u001b[38;5;33mActivation\u001b[0m)        │                   │            │                   │\n",
              "├─────────────────────┼───────────────────┼────────────┼───────────────────┤\n",
              "│ conv1d_8 (\u001b[38;5;33mConv1D\u001b[0m)   │ (\u001b[38;5;45mNone\u001b[0m, \u001b[38;5;34m43\u001b[0m, \u001b[38;5;34m32\u001b[0m)    │      \u001b[38;5;34m5,152\u001b[0m │ activation_6[\u001b[38;5;34m0\u001b[0m][\u001b[38;5;34m…\u001b[0m │\n",
              "├─────────────────────┼───────────────────┼────────────┼───────────────────┤\n",
              "│ add_3 (\u001b[38;5;33mAdd\u001b[0m)         │ (\u001b[38;5;45mNone\u001b[0m, \u001b[38;5;34m43\u001b[0m, \u001b[38;5;34m32\u001b[0m)    │          \u001b[38;5;34m0\u001b[0m │ conv1d_8[\u001b[38;5;34m0\u001b[0m][\u001b[38;5;34m0\u001b[0m],   │\n",
              "│                     │                   │            │ max_pooling1d_2[\u001b[38;5;34m…\u001b[0m │\n",
              "├─────────────────────┼───────────────────┼────────────┼───────────────────┤\n",
              "│ activation_7        │ (\u001b[38;5;45mNone\u001b[0m, \u001b[38;5;34m43\u001b[0m, \u001b[38;5;34m32\u001b[0m)    │          \u001b[38;5;34m0\u001b[0m │ add_3[\u001b[38;5;34m0\u001b[0m][\u001b[38;5;34m0\u001b[0m]       │\n",
              "│ (\u001b[38;5;33mActivation\u001b[0m)        │                   │            │                   │\n",
              "├─────────────────────┼───────────────────┼────────────┼───────────────────┤\n",
              "│ max_pooling1d_3     │ (\u001b[38;5;45mNone\u001b[0m, \u001b[38;5;34m20\u001b[0m, \u001b[38;5;34m32\u001b[0m)    │          \u001b[38;5;34m0\u001b[0m │ activation_7[\u001b[38;5;34m0\u001b[0m][\u001b[38;5;34m…\u001b[0m │\n",
              "│ (\u001b[38;5;33mMaxPooling1D\u001b[0m)      │                   │            │                   │\n",
              "├─────────────────────┼───────────────────┼────────────┼───────────────────┤\n",
              "│ conv1d_9 (\u001b[38;5;33mConv1D\u001b[0m)   │ (\u001b[38;5;45mNone\u001b[0m, \u001b[38;5;34m20\u001b[0m, \u001b[38;5;34m32\u001b[0m)    │      \u001b[38;5;34m5,152\u001b[0m │ max_pooling1d_3[\u001b[38;5;34m…\u001b[0m │\n",
              "├─────────────────────┼───────────────────┼────────────┼───────────────────┤\n",
              "│ activation_8        │ (\u001b[38;5;45mNone\u001b[0m, \u001b[38;5;34m20\u001b[0m, \u001b[38;5;34m32\u001b[0m)    │          \u001b[38;5;34m0\u001b[0m │ conv1d_9[\u001b[38;5;34m0\u001b[0m][\u001b[38;5;34m0\u001b[0m]    │\n",
              "│ (\u001b[38;5;33mActivation\u001b[0m)        │                   │            │                   │\n",
              "├─────────────────────┼───────────────────┼────────────┼───────────────────┤\n",
              "│ conv1d_10 (\u001b[38;5;33mConv1D\u001b[0m)  │ (\u001b[38;5;45mNone\u001b[0m, \u001b[38;5;34m20\u001b[0m, \u001b[38;5;34m32\u001b[0m)    │      \u001b[38;5;34m5,152\u001b[0m │ activation_8[\u001b[38;5;34m0\u001b[0m][\u001b[38;5;34m…\u001b[0m │\n",
              "├─────────────────────┼───────────────────┼────────────┼───────────────────┤\n",
              "│ add_4 (\u001b[38;5;33mAdd\u001b[0m)         │ (\u001b[38;5;45mNone\u001b[0m, \u001b[38;5;34m20\u001b[0m, \u001b[38;5;34m32\u001b[0m)    │          \u001b[38;5;34m0\u001b[0m │ conv1d_10[\u001b[38;5;34m0\u001b[0m][\u001b[38;5;34m0\u001b[0m],  │\n",
              "│                     │                   │            │ max_pooling1d_3[\u001b[38;5;34m…\u001b[0m │\n",
              "├─────────────────────┼───────────────────┼────────────┼───────────────────┤\n",
              "│ activation_9        │ (\u001b[38;5;45mNone\u001b[0m, \u001b[38;5;34m20\u001b[0m, \u001b[38;5;34m32\u001b[0m)    │          \u001b[38;5;34m0\u001b[0m │ add_4[\u001b[38;5;34m0\u001b[0m][\u001b[38;5;34m0\u001b[0m]       │\n",
              "│ (\u001b[38;5;33mActivation\u001b[0m)        │                   │            │                   │\n",
              "├─────────────────────┼───────────────────┼────────────┼───────────────────┤\n",
              "│ max_pooling1d_4     │ (\u001b[38;5;45mNone\u001b[0m, \u001b[38;5;34m8\u001b[0m, \u001b[38;5;34m32\u001b[0m)     │          \u001b[38;5;34m0\u001b[0m │ activation_9[\u001b[38;5;34m0\u001b[0m][\u001b[38;5;34m…\u001b[0m │\n",
              "│ (\u001b[38;5;33mMaxPooling1D\u001b[0m)      │                   │            │                   │\n",
              "├─────────────────────┼───────────────────┼────────────┼───────────────────┤\n",
              "│ flatten (\u001b[38;5;33mFlatten\u001b[0m)   │ (\u001b[38;5;45mNone\u001b[0m, \u001b[38;5;34m256\u001b[0m)       │          \u001b[38;5;34m0\u001b[0m │ max_pooling1d_4[\u001b[38;5;34m…\u001b[0m │\n",
              "├─────────────────────┼───────────────────┼────────────┼───────────────────┤\n",
              "│ dense (\u001b[38;5;33mDense\u001b[0m)       │ (\u001b[38;5;45mNone\u001b[0m, \u001b[38;5;34m32\u001b[0m)        │      \u001b[38;5;34m8,224\u001b[0m │ flatten[\u001b[38;5;34m0\u001b[0m][\u001b[38;5;34m0\u001b[0m]     │\n",
              "├─────────────────────┼───────────────────┼────────────┼───────────────────┤\n",
              "│ activation_10       │ (\u001b[38;5;45mNone\u001b[0m, \u001b[38;5;34m32\u001b[0m)        │          \u001b[38;5;34m0\u001b[0m │ dense[\u001b[38;5;34m0\u001b[0m][\u001b[38;5;34m0\u001b[0m]       │\n",
              "│ (\u001b[38;5;33mActivation\u001b[0m)        │                   │            │                   │\n",
              "├─────────────────────┼───────────────────┼────────────┼───────────────────┤\n",
              "│ dense_1 (\u001b[38;5;33mDense\u001b[0m)     │ (\u001b[38;5;45mNone\u001b[0m, \u001b[38;5;34m32\u001b[0m)        │      \u001b[38;5;34m1,056\u001b[0m │ activation_10[\u001b[38;5;34m0\u001b[0m]… │\n",
              "├─────────────────────┼───────────────────┼────────────┼───────────────────┤\n",
              "│ dense_2 (\u001b[38;5;33mDense\u001b[0m)     │ (\u001b[38;5;45mNone\u001b[0m, \u001b[38;5;34m5\u001b[0m)         │        \u001b[38;5;34m165\u001b[0m │ dense_1[\u001b[38;5;34m0\u001b[0m][\u001b[38;5;34m0\u001b[0m]     │\n",
              "├─────────────────────┼───────────────────┼────────────┼───────────────────┤\n",
              "│ softmax (\u001b[38;5;33mSoftmax\u001b[0m)   │ (\u001b[38;5;45mNone\u001b[0m, \u001b[38;5;34m5\u001b[0m)         │          \u001b[38;5;34m0\u001b[0m │ dense_2[\u001b[38;5;34m0\u001b[0m][\u001b[38;5;34m0\u001b[0m]     │\n",
              "└─────────────────────┴───────────────────┴────────────┴───────────────────┘\n"
            ]
          },
          "metadata": {},
          "output_type": "display_data"
        },
        {
          "data": {
            "text/html": [
              "<pre style=\"white-space:pre;overflow-x:auto;line-height:normal;font-family:Menlo,'DejaVu Sans Mono',consolas,'Courier New',monospace\"><span style=\"font-weight: bold\"> Total params: </span><span style=\"color: #00af00; text-decoration-color: #00af00\">50,853</span> (198.64 KB)\n",
              "</pre>\n"
            ],
            "text/plain": [
              "\u001b[1m Total params: \u001b[0m\u001b[38;5;34m50,853\u001b[0m (198.64 KB)\n"
            ]
          },
          "metadata": {},
          "output_type": "display_data"
        },
        {
          "data": {
            "text/html": [
              "<pre style=\"white-space:pre;overflow-x:auto;line-height:normal;font-family:Menlo,'DejaVu Sans Mono',consolas,'Courier New',monospace\"><span style=\"font-weight: bold\"> Trainable params: </span><span style=\"color: #00af00; text-decoration-color: #00af00\">50,853</span> (198.64 KB)\n",
              "</pre>\n"
            ],
            "text/plain": [
              "\u001b[1m Trainable params: \u001b[0m\u001b[38;5;34m50,853\u001b[0m (198.64 KB)\n"
            ]
          },
          "metadata": {},
          "output_type": "display_data"
        },
        {
          "data": {
            "text/html": [
              "<pre style=\"white-space:pre;overflow-x:auto;line-height:normal;font-family:Menlo,'DejaVu Sans Mono',consolas,'Courier New',monospace\"><span style=\"font-weight: bold\"> Non-trainable params: </span><span style=\"color: #00af00; text-decoration-color: #00af00\">0</span> (0.00 B)\n",
              "</pre>\n"
            ],
            "text/plain": [
              "\u001b[1m Non-trainable params: \u001b[0m\u001b[38;5;34m0\u001b[0m (0.00 B)\n"
            ]
          },
          "metadata": {},
          "output_type": "display_data"
        }
      ],
      "source": [
        "n_obs, feature, depth = X_train.shape\n",
        "batch_size = 500\n",
        "K.clear_session()\n",
        "\n",
        "inp = Input(shape=(feature, depth))\n",
        "C = Conv1D(filters=32, kernel_size=5, strides=1)(inp)\n",
        "\n",
        "C11 = Conv1D(filters=32, kernel_size=5, strides=1, padding='same')(C)\n",
        "A11 = Activation(\"relu\")(C11)\n",
        "C12 = Conv1D(filters=32, kernel_size=5, strides=1, padding='same')(A11)\n",
        "S11 = Add()([C12, C])\n",
        "A12 = Activation(\"relu\")(S11)\n",
        "M11 = MaxPooling1D(pool_size=5, strides=2)(A12)\n",
        "\n",
        "C21 = Conv1D(filters=32, kernel_size=5, strides=1, padding='same')(M11)\n",
        "A21 = Activation(\"relu\")(C21)\n",
        "C22 = Conv1D(filters=32, kernel_size=5, strides=1, padding='same')(A21)\n",
        "S21 = Add()([C22, M11])\n",
        "A22 = Activation(\"relu\")(S11)\n",
        "M21 = MaxPooling1D(pool_size=5, strides=2)(A22)\n",
        "\n",
        "\n",
        "C31 = Conv1D(filters=32, kernel_size=5, strides=1, padding='same')(M21)\n",
        "A31 = Activation(\"relu\")(C31)\n",
        "C32 = Conv1D(filters=32, kernel_size=5, strides=1, padding='same')(A31)\n",
        "S31 = Add()([C32, M21])\n",
        "A32 = Activation(\"relu\")(S31)\n",
        "M31 = MaxPooling1D(pool_size=5, strides=2)(A32)\n",
        "\n",
        "\n",
        "C41 = Conv1D(filters=32, kernel_size=5, strides=1, padding='same')(M31)\n",
        "A41 = Activation(\"relu\")(C41)\n",
        "C42 = Conv1D(filters=32, kernel_size=5, strides=1, padding='same')(A41)\n",
        "S41 = Add()([C42, M31])\n",
        "A42 = Activation(\"relu\")(S41)\n",
        "M41 = MaxPooling1D(pool_size=5, strides=2)(A42)\n",
        "\n",
        "\n",
        "C51 = Conv1D(filters=32, kernel_size=5, strides=1, padding='same')(M41)\n",
        "A51 = Activation(\"relu\")(C51)\n",
        "C52 = Conv1D(filters=32, kernel_size=5, strides=1, padding='same')(A51)\n",
        "S51 = Add()([C52, M41])\n",
        "A52 = Activation(\"relu\")(S51)\n",
        "M51 = MaxPooling1D(pool_size=5, strides=2)(A52)\n",
        "\n",
        "F1 = Flatten()(M51)\n",
        "\n",
        "D1 = Dense(32)(F1)\n",
        "A6 = Activation(\"relu\")(D1)\n",
        "D2 = Dense(32)(A6)\n",
        "D3 = Dense(5)(D2)\n",
        "A7 = Softmax()(D3)\n",
        "\n",
        "model = Model(inputs=inp, outputs=A7)\n",
        "\n",
        "model.summary()\n"
      ]
    },
    {
      "cell_type": "markdown",
      "metadata": {
        "id": "xtzWF4Q94sV_"
      },
      "source": [
        "Training Phase"
      ]
    },
    {
      "cell_type": "code",
      "execution_count": 16,
      "metadata": {
        "colab": {
          "base_uri": "https://localhost:8080/"
        },
        "id": "bNStj5qeZAZk",
        "outputId": "b2f49a08-ee7b-403b-8c34-6fcfd2d1685b"
      },
      "outputs": [
        {
          "name": "stdout",
          "output_type": "stream",
          "text": [
            "Epoch 1/100\n",
            "620/620 - 95s - 154ms/step - accuracy: 0.4703 - loss: 1.2829 - val_accuracy: 0.5062 - val_loss: 1.1535 - learning_rate: 3.0000e-05\n",
            "Epoch 2/100\n",
            "620/620 - 98s - 159ms/step - accuracy: 0.6427 - loss: 0.9226 - val_accuracy: 0.6935 - val_loss: 0.7945 - learning_rate: 3.0000e-05\n",
            "Epoch 3/100\n",
            "620/620 - 84s - 135ms/step - accuracy: 0.7444 - loss: 0.6969 - val_accuracy: 0.7473 - val_loss: 0.6833 - learning_rate: 3.0000e-05\n",
            "Epoch 4/100\n",
            "620/620 - 79s - 127ms/step - accuracy: 0.7952 - loss: 0.5744 - val_accuracy: 0.7360 - val_loss: 0.6991 - learning_rate: 3.0000e-05\n",
            "Epoch 5/100\n",
            "620/620 - 79s - 128ms/step - accuracy: 0.8223 - loss: 0.5029 - val_accuracy: 0.7915 - val_loss: 0.5549 - learning_rate: 3.0000e-05\n",
            "Epoch 6/100\n",
            "620/620 - 85s - 137ms/step - accuracy: 0.8417 - loss: 0.4494 - val_accuracy: 0.7924 - val_loss: 0.5465 - learning_rate: 3.0000e-05\n",
            "Epoch 7/100\n",
            "620/620 - 95s - 153ms/step - accuracy: 0.8565 - loss: 0.4096 - val_accuracy: 0.8299 - val_loss: 0.4659 - learning_rate: 3.0000e-05\n",
            "Epoch 8/100\n",
            "620/620 - 86s - 139ms/step - accuracy: 0.8687 - loss: 0.3779 - val_accuracy: 0.8316 - val_loss: 0.4663 - learning_rate: 3.0000e-05\n",
            "Epoch 9/100\n",
            "620/620 - 93s - 150ms/step - accuracy: 0.8793 - loss: 0.3515 - val_accuracy: 0.8061 - val_loss: 0.5308 - learning_rate: 3.0000e-05\n",
            "Epoch 10/100\n",
            "620/620 - 92s - 148ms/step - accuracy: 0.8873 - loss: 0.3301 - val_accuracy: 0.8307 - val_loss: 0.4685 - learning_rate: 3.0000e-05\n",
            "Epoch 11/100\n",
            "620/620 - 84s - 136ms/step - accuracy: 0.8953 - loss: 0.3098 - val_accuracy: 0.8483 - val_loss: 0.4280 - learning_rate: 3.0000e-05\n",
            "Epoch 12/100\n",
            "620/620 - 79s - 128ms/step - accuracy: 0.9006 - loss: 0.2951 - val_accuracy: 0.8317 - val_loss: 0.4752 - learning_rate: 3.0000e-05\n",
            "Epoch 13/100\n",
            "620/620 - 79s - 127ms/step - accuracy: 0.9057 - loss: 0.2807 - val_accuracy: 0.8471 - val_loss: 0.4344 - learning_rate: 3.0000e-05\n",
            "Epoch 14/100\n",
            "620/620 - 82s - 132ms/step - accuracy: 0.9103 - loss: 0.2684 - val_accuracy: 0.8634 - val_loss: 0.3897 - learning_rate: 3.0000e-05\n",
            "Epoch 15/100\n",
            "620/620 - 79s - 128ms/step - accuracy: 0.9154 - loss: 0.2560 - val_accuracy: 0.8492 - val_loss: 0.4288 - learning_rate: 3.0000e-05\n",
            "Epoch 16/100\n",
            "620/620 - 74s - 120ms/step - accuracy: 0.9193 - loss: 0.2463 - val_accuracy: 0.8991 - val_loss: 0.3076 - learning_rate: 3.0000e-05\n",
            "Epoch 17/100\n",
            "620/620 - 88s - 143ms/step - accuracy: 0.9231 - loss: 0.2361 - val_accuracy: 0.8545 - val_loss: 0.4197 - learning_rate: 3.0000e-05\n",
            "Epoch 18/100\n",
            "620/620 - 142s - 230ms/step - accuracy: 0.9268 - loss: 0.2274 - val_accuracy: 0.8395 - val_loss: 0.4603 - learning_rate: 3.0000e-05\n",
            "Epoch 19/100\n",
            "620/620 - 97s - 156ms/step - accuracy: 0.9301 - loss: 0.2188 - val_accuracy: 0.8644 - val_loss: 0.3930 - learning_rate: 3.0000e-05\n",
            "Epoch 20/100\n",
            "620/620 - 86s - 139ms/step - accuracy: 0.9326 - loss: 0.2115 - val_accuracy: 0.8535 - val_loss: 0.4282 - learning_rate: 3.0000e-05\n",
            "Epoch 21/100\n",
            "620/620 - 73s - 117ms/step - accuracy: 0.9357 - loss: 0.2036 - val_accuracy: 0.8706 - val_loss: 0.3796 - learning_rate: 3.0000e-05\n",
            "Epoch 22/100\n",
            "620/620 - 74s - 120ms/step - accuracy: 0.9374 - loss: 0.1980 - val_accuracy: 0.8903 - val_loss: 0.3329 - learning_rate: 3.0000e-05\n",
            "Epoch 23/100\n",
            "620/620 - 83s - 134ms/step - accuracy: 0.9398 - loss: 0.1913 - val_accuracy: 0.8847 - val_loss: 0.3475 - learning_rate: 3.0000e-05\n",
            "Epoch 24/100\n",
            "620/620 - 129s - 209ms/step - accuracy: 0.9420 - loss: 0.1849 - val_accuracy: 0.8677 - val_loss: 0.3967 - learning_rate: 3.0000e-05\n",
            "Epoch 25/100\n",
            "620/620 - 75s - 122ms/step - accuracy: 0.9439 - loss: 0.1793 - val_accuracy: 0.8965 - val_loss: 0.3195 - learning_rate: 3.0000e-05\n",
            "Epoch 26/100\n",
            "620/620 - 73s - 118ms/step - accuracy: 0.9456 - loss: 0.1746 - val_accuracy: 0.9036 - val_loss: 0.2973 - learning_rate: 3.0000e-05\n",
            "Epoch 27/100\n",
            "620/620 - 81s - 131ms/step - accuracy: 0.9469 - loss: 0.1700 - val_accuracy: 0.8968 - val_loss: 0.3163 - learning_rate: 3.0000e-05\n",
            "Epoch 28/100\n",
            "620/620 - 72s - 115ms/step - accuracy: 0.9500 - loss: 0.1627 - val_accuracy: 0.8898 - val_loss: 0.3347 - learning_rate: 3.0000e-05\n",
            "Epoch 29/100\n",
            "620/620 - 69s - 112ms/step - accuracy: 0.9509 - loss: 0.1598 - val_accuracy: 0.8887 - val_loss: 0.3420 - learning_rate: 3.0000e-05\n",
            "Epoch 30/100\n",
            "620/620 - 74s - 120ms/step - accuracy: 0.9523 - loss: 0.1549 - val_accuracy: 0.9046 - val_loss: 0.2960 - learning_rate: 3.0000e-05\n",
            "Epoch 31/100\n",
            "620/620 - 73s - 118ms/step - accuracy: 0.9539 - loss: 0.1509 - val_accuracy: 0.8774 - val_loss: 0.3700 - learning_rate: 3.0000e-05\n",
            "Epoch 32/100\n",
            "620/620 - 74s - 119ms/step - accuracy: 0.9554 - loss: 0.1464 - val_accuracy: 0.9066 - val_loss: 0.2928 - learning_rate: 3.0000e-05\n",
            "Epoch 33/100\n",
            "620/620 - 67s - 108ms/step - accuracy: 0.9566 - loss: 0.1432 - val_accuracy: 0.9038 - val_loss: 0.3026 - learning_rate: 3.0000e-05\n",
            "Epoch 34/100\n",
            "620/620 - 70s - 113ms/step - accuracy: 0.9579 - loss: 0.1391 - val_accuracy: 0.9129 - val_loss: 0.2803 - learning_rate: 3.0000e-05\n",
            "Epoch 35/100\n",
            "620/620 - 65s - 106ms/step - accuracy: 0.9588 - loss: 0.1361 - val_accuracy: 0.9162 - val_loss: 0.2710 - learning_rate: 3.0000e-05\n",
            "Epoch 36/100\n",
            "620/620 - 109s - 175ms/step - accuracy: 0.9602 - loss: 0.1324 - val_accuracy: 0.9173 - val_loss: 0.2671 - learning_rate: 3.0000e-05\n",
            "Epoch 37/100\n",
            "620/620 - 159s - 257ms/step - accuracy: 0.9610 - loss: 0.1300 - val_accuracy: 0.9178 - val_loss: 0.2640 - learning_rate: 3.0000e-05\n",
            "Epoch 38/100\n",
            "620/620 - 155s - 250ms/step - accuracy: 0.9625 - loss: 0.1262 - val_accuracy: 0.8960 - val_loss: 0.3264 - learning_rate: 3.0000e-05\n",
            "Epoch 39/100\n",
            "620/620 - 197s - 318ms/step - accuracy: 0.9630 - loss: 0.1236 - val_accuracy: 0.9351 - val_loss: 0.2269 - learning_rate: 3.0000e-05\n",
            "Epoch 40/100\n",
            "620/620 - 130s - 209ms/step - accuracy: 0.9641 - loss: 0.1204 - val_accuracy: 0.9013 - val_loss: 0.3173 - learning_rate: 3.0000e-05\n",
            "Epoch 41/100\n",
            "620/620 - 134s - 216ms/step - accuracy: 0.9649 - loss: 0.1183 - val_accuracy: 0.8862 - val_loss: 0.3603 - learning_rate: 3.0000e-05\n",
            "Epoch 42/100\n",
            "620/620 - 135s - 218ms/step - accuracy: 0.9664 - loss: 0.1142 - val_accuracy: 0.9028 - val_loss: 0.3114 - learning_rate: 3.0000e-05\n",
            "Epoch 43/100\n",
            "620/620 - 128s - 207ms/step - accuracy: 0.9670 - loss: 0.1124 - val_accuracy: 0.9035 - val_loss: 0.3174 - learning_rate: 3.0000e-05\n",
            "Epoch 44/100\n",
            "620/620 - 132s - 212ms/step - accuracy: 0.9674 - loss: 0.1105 - val_accuracy: 0.9177 - val_loss: 0.2708 - learning_rate: 3.0000e-05\n",
            "Epoch 45/100\n",
            "620/620 - 138s - 223ms/step - accuracy: 0.9689 - loss: 0.1074 - val_accuracy: 0.9156 - val_loss: 0.2785 - learning_rate: 3.0000e-05\n",
            "Epoch 46/100\n",
            "620/620 - 136s - 220ms/step - accuracy: 0.9696 - loss: 0.1051 - val_accuracy: 0.8943 - val_loss: 0.3435 - learning_rate: 3.0000e-05\n",
            "Epoch 47/100\n",
            "620/620 - 141s - 227ms/step - accuracy: 0.9701 - loss: 0.1040 - val_accuracy: 0.9402 - val_loss: 0.2093 - learning_rate: 3.0000e-05\n",
            "Epoch 48/100\n",
            "620/620 - 144s - 232ms/step - accuracy: 0.9705 - loss: 0.1018 - val_accuracy: 0.9327 - val_loss: 0.2362 - learning_rate: 3.0000e-05\n",
            "Epoch 49/100\n",
            "620/620 - 134s - 217ms/step - accuracy: 0.9717 - loss: 0.0987 - val_accuracy: 0.9132 - val_loss: 0.2897 - learning_rate: 3.0000e-05\n",
            "Epoch 50/100\n",
            "620/620 - 156s - 252ms/step - accuracy: 0.9720 - loss: 0.0970 - val_accuracy: 0.9384 - val_loss: 0.2200 - learning_rate: 3.0000e-05\n",
            "Epoch 51/100\n",
            "620/620 - 167s - 270ms/step - accuracy: 0.9724 - loss: 0.0958 - val_accuracy: 0.9331 - val_loss: 0.2304 - learning_rate: 3.0000e-05\n",
            "Epoch 52/100\n",
            "620/620 - 152s - 245ms/step - accuracy: 0.9735 - loss: 0.0928 - val_accuracy: 0.9297 - val_loss: 0.2445 - learning_rate: 3.0000e-05\n",
            "Epoch 53/100\n",
            "620/620 - 140s - 225ms/step - accuracy: 0.9741 - loss: 0.0910 - val_accuracy: 0.9304 - val_loss: 0.2464 - learning_rate: 3.0000e-05\n",
            "Epoch 54/100\n",
            "620/620 - 139s - 224ms/step - accuracy: 0.9742 - loss: 0.0903 - val_accuracy: 0.9277 - val_loss: 0.2513 - learning_rate: 3.0000e-05\n",
            "Epoch 55/100\n",
            "620/620 - 139s - 224ms/step - accuracy: 0.9753 - loss: 0.0877 - val_accuracy: 0.9295 - val_loss: 0.2444 - learning_rate: 3.0000e-05\n",
            "Epoch 56/100\n",
            "620/620 - 148s - 239ms/step - accuracy: 0.9756 - loss: 0.0860 - val_accuracy: 0.9388 - val_loss: 0.2196 - learning_rate: 3.0000e-05\n",
            "Epoch 57/100\n",
            "620/620 - 193s - 311ms/step - accuracy: 0.9755 - loss: 0.0861 - val_accuracy: 0.9269 - val_loss: 0.2524 - learning_rate: 3.0000e-05\n",
            "Epoch 58/100\n",
            "620/620 - 142s - 228ms/step - accuracy: 0.9767 - loss: 0.0829 - val_accuracy: 0.9310 - val_loss: 0.2422 - learning_rate: 3.0000e-05\n",
            "Epoch 59/100\n",
            "620/620 - 126s - 203ms/step - accuracy: 0.9773 - loss: 0.0815 - val_accuracy: 0.9344 - val_loss: 0.2280 - learning_rate: 3.0000e-05\n",
            "Epoch 60/100\n",
            "620/620 - 119s - 193ms/step - accuracy: 0.9774 - loss: 0.0804 - val_accuracy: 0.9390 - val_loss: 0.2173 - learning_rate: 3.0000e-05\n",
            "Epoch 61/100\n",
            "620/620 - 144s - 233ms/step - accuracy: 0.9782 - loss: 0.0785 - val_accuracy: 0.9530 - val_loss: 0.1817 - learning_rate: 3.0000e-05\n",
            "Epoch 62/100\n",
            "620/620 - 152s - 245ms/step - accuracy: 0.9785 - loss: 0.0773 - val_accuracy: 0.9286 - val_loss: 0.2522 - learning_rate: 3.0000e-05\n",
            "Epoch 63/100\n",
            "620/620 - 144s - 232ms/step - accuracy: 0.9793 - loss: 0.0758 - val_accuracy: 0.9072 - val_loss: 0.3162 - learning_rate: 3.0000e-05\n",
            "Epoch 64/100\n",
            "620/620 - 136s - 219ms/step - accuracy: 0.9796 - loss: 0.0746 - val_accuracy: 0.9261 - val_loss: 0.2624 - learning_rate: 3.0000e-05\n",
            "Epoch 65/100\n",
            "620/620 - 146s - 235ms/step - accuracy: 0.9798 - loss: 0.0735 - val_accuracy: 0.9469 - val_loss: 0.1969 - learning_rate: 3.0000e-05\n",
            "Epoch 66/100\n",
            "620/620 - 150s - 242ms/step - accuracy: 0.9808 - loss: 0.0715 - val_accuracy: 0.9424 - val_loss: 0.2115 - learning_rate: 3.0000e-05\n",
            "Epoch 67/100\n",
            "620/620 - 161s - 259ms/step - accuracy: 0.9810 - loss: 0.0702 - val_accuracy: 0.9324 - val_loss: 0.2432 - learning_rate: 3.0000e-05\n",
            "Epoch 68/100\n",
            "620/620 - 201s - 324ms/step - accuracy: 0.9809 - loss: 0.0695 - val_accuracy: 0.9528 - val_loss: 0.1822 - learning_rate: 3.0000e-05\n",
            "Epoch 69/100\n",
            "620/620 - 149s - 240ms/step - accuracy: 0.9815 - loss: 0.0684 - val_accuracy: 0.9392 - val_loss: 0.2236 - learning_rate: 3.0000e-05\n",
            "Epoch 70/100\n",
            "620/620 - 159s - 257ms/step - accuracy: 0.9818 - loss: 0.0673 - val_accuracy: 0.9402 - val_loss: 0.2183 - learning_rate: 3.0000e-05\n",
            "Epoch 71/100\n",
            "620/620 - 157s - 254ms/step - accuracy: 0.9819 - loss: 0.0667 - val_accuracy: 0.9371 - val_loss: 0.2320 - learning_rate: 3.0000e-05\n",
            "Epoch 72/100\n",
            "620/620 - 127s - 205ms/step - accuracy: 0.9829 - loss: 0.0645 - val_accuracy: 0.9484 - val_loss: 0.1953 - learning_rate: 3.0000e-05\n",
            "Epoch 73/100\n",
            "620/620 - 151s - 243ms/step - accuracy: 0.9829 - loss: 0.0640 - val_accuracy: 0.9488 - val_loss: 0.1949 - learning_rate: 3.0000e-05\n",
            "Epoch 74/100\n",
            "620/620 - 141s - 227ms/step - accuracy: 0.9830 - loss: 0.0634 - val_accuracy: 0.9596 - val_loss: 0.1637 - learning_rate: 3.0000e-05\n",
            "Epoch 75/100\n",
            "620/620 - 150s - 242ms/step - accuracy: 0.9831 - loss: 0.0628 - val_accuracy: 0.9313 - val_loss: 0.2530 - learning_rate: 3.0000e-05\n",
            "Epoch 76/100\n",
            "620/620 - 90s - 145ms/step - accuracy: 0.9835 - loss: 0.0616 - val_accuracy: 0.9511 - val_loss: 0.1872 - learning_rate: 3.0000e-05\n",
            "Epoch 77/100\n",
            "620/620 - 78s - 125ms/step - accuracy: 0.9842 - loss: 0.0602 - val_accuracy: 0.9451 - val_loss: 0.2093 - learning_rate: 3.0000e-05\n",
            "Epoch 78/100\n",
            "620/620 - 81s - 130ms/step - accuracy: 0.9840 - loss: 0.0597 - val_accuracy: 0.9430 - val_loss: 0.2145 - learning_rate: 3.0000e-05\n",
            "Epoch 79/100\n",
            "620/620 - 75s - 121ms/step - accuracy: 0.9843 - loss: 0.0590 - val_accuracy: 0.9593 - val_loss: 0.1664 - learning_rate: 3.0000e-05\n",
            "Epoch 80/100\n",
            "620/620 - 79s - 128ms/step - accuracy: 0.9852 - loss: 0.0571 - val_accuracy: 0.9603 - val_loss: 0.1658 - learning_rate: 3.0000e-05\n",
            "Epoch 81/100\n",
            "620/620 - 80s - 129ms/step - accuracy: 0.9850 - loss: 0.0571 - val_accuracy: 0.9556 - val_loss: 0.1790 - learning_rate: 3.0000e-05\n",
            "Epoch 82/100\n",
            "620/620 - 82s - 133ms/step - accuracy: 0.9852 - loss: 0.0564 - val_accuracy: 0.9601 - val_loss: 0.1671 - learning_rate: 3.0000e-05\n",
            "Epoch 83/100\n",
            "620/620 - 93s - 150ms/step - accuracy: 0.9857 - loss: 0.0552 - val_accuracy: 0.9502 - val_loss: 0.1942 - learning_rate: 3.0000e-05\n",
            "Epoch 84/100\n",
            "620/620 - 136s - 220ms/step - accuracy: 0.9857 - loss: 0.0545 - val_accuracy: 0.9553 - val_loss: 0.1820 - learning_rate: 3.0000e-05\n",
            "Epoch 85/100\n",
            "620/620 - 82s - 132ms/step - accuracy: 0.9863 - loss: 0.0534 - val_accuracy: 0.9456 - val_loss: 0.2108 - learning_rate: 3.0000e-05\n",
            "Epoch 86/100\n",
            "620/620 - 81s - 131ms/step - accuracy: 0.9864 - loss: 0.0533 - val_accuracy: 0.9594 - val_loss: 0.1694 - learning_rate: 3.0000e-05\n",
            "Epoch 87/100\n",
            "620/620 - 76s - 122ms/step - accuracy: 0.9868 - loss: 0.0517 - val_accuracy: 0.9489 - val_loss: 0.1986 - learning_rate: 3.0000e-05\n",
            "Epoch 88/100\n",
            "620/620 - 73s - 118ms/step - accuracy: 0.9873 - loss: 0.0509 - val_accuracy: 0.9477 - val_loss: 0.2066 - learning_rate: 3.0000e-05\n",
            "Epoch 89/100\n",
            "620/620 - 78s - 126ms/step - accuracy: 0.9869 - loss: 0.0506 - val_accuracy: 0.9483 - val_loss: 0.2018 - learning_rate: 3.0000e-05\n",
            "Epoch 90/100\n",
            "620/620 - 77s - 124ms/step - accuracy: 0.9870 - loss: 0.0506 - val_accuracy: 0.9621 - val_loss: 0.1646 - learning_rate: 3.0000e-05\n",
            "Epoch 91/100\n",
            "620/620 - 83s - 134ms/step - accuracy: 0.9874 - loss: 0.0493 - val_accuracy: 0.9641 - val_loss: 0.1596 - learning_rate: 3.0000e-05\n",
            "Epoch 92/100\n",
            "620/620 - 77s - 125ms/step - accuracy: 0.9873 - loss: 0.0491 - val_accuracy: 0.9538 - val_loss: 0.1895 - learning_rate: 3.0000e-05\n",
            "Epoch 93/100\n",
            "620/620 - 74s - 120ms/step - accuracy: 0.9878 - loss: 0.0479 - val_accuracy: 0.9528 - val_loss: 0.1901 - learning_rate: 3.0000e-05\n",
            "Epoch 94/100\n",
            "620/620 - 82s - 132ms/step - accuracy: 0.9881 - loss: 0.0473 - val_accuracy: 0.9557 - val_loss: 0.1828 - learning_rate: 3.0000e-05\n",
            "Epoch 95/100\n",
            "620/620 - 77s - 124ms/step - accuracy: 0.9884 - loss: 0.0466 - val_accuracy: 0.9485 - val_loss: 0.2043 - learning_rate: 3.0000e-05\n",
            "Epoch 96/100\n",
            "620/620 - 83s - 133ms/step - accuracy: 0.9886 - loss: 0.0457 - val_accuracy: 0.9580 - val_loss: 0.1776 - learning_rate: 3.0000e-05\n",
            "Epoch 97/100\n",
            "620/620 - 81s - 131ms/step - accuracy: 0.9878 - loss: 0.0471 - val_accuracy: 0.9595 - val_loss: 0.1724 - learning_rate: 3.0000e-05\n",
            "Epoch 98/100\n",
            "620/620 - 82s - 133ms/step - accuracy: 0.9888 - loss: 0.0445 - val_accuracy: 0.9557 - val_loss: 0.1827 - learning_rate: 3.0000e-05\n",
            "Epoch 99/100\n",
            "620/620 - 82s - 132ms/step - accuracy: 0.9890 - loss: 0.0442 - val_accuracy: 0.9587 - val_loss: 0.1748 - learning_rate: 3.0000e-05\n",
            "Epoch 100/100\n",
            "620/620 - 85s - 138ms/step - accuracy: 0.9885 - loss: 0.0451 - val_accuracy: 0.9564 - val_loss: 0.1830 - learning_rate: 3.0000e-05\n"
          ]
        }
      ],
      "source": [
        "import math\n",
        "batch_size = 512\n",
        "def exp_decay(epoch):\n",
        "    initial_lrate = 3e-5\n",
        "    k = 0.75\n",
        "    t = n_obs // (10000 * batch_size)  # every epoch we do n_obs/batch_size iteration\n",
        "    lrate = initial_lrate * math.exp(-k * t)\n",
        "    return lrate\n",
        "\n",
        "lrate = LearningRateScheduler(exp_decay)\n",
        "\n",
        "adam = Adam(learning_rate=3e-5, beta_1=0.9, beta_2=0.999)\n",
        "\n",
        "model.compile(loss='categorical_crossentropy', optimizer=adam, metrics=['accuracy'])\n",
        "\n",
        "history = model.fit(X_train, y_train,\n",
        "                    epochs=100,\n",
        "                    batch_size=batch_size,\n",
        "                    verbose=2,\n",
        "                    validation_data=(X_test, y_test),\n",
        "                    callbacks=[lrate])\n",
        "\n"
      ]
    },
    {
      "cell_type": "markdown",
      "metadata": {
        "id": "IERs2kjD4xco"
      },
      "source": [
        "Calculating the metrics values towards test data\n"
      ]
    },
    {
      "cell_type": "code",
      "execution_count": 17,
      "metadata": {
        "colab": {
          "base_uri": "https://localhost:8080/"
        },
        "id": "I5SnZoAth-hm",
        "outputId": "86f73fb4-824d-4ff5-b65e-569a7b2b3f18"
      },
      "outputs": [
        {
          "name": "stdout",
          "output_type": "stream",
          "text": [
            "\u001b[1m33/33\u001b[0m \u001b[32m━━━━━━━━━━━━━━━━━━━━\u001b[0m\u001b[37m\u001b[0m \u001b[1m5s\u001b[0m 137ms/step\n",
            "              precision    recall  f1-score   support\n",
            "\n",
            "           0       0.99      0.96      0.98     27177\n",
            "           1       0.54      0.87      0.66       833\n",
            "           2       0.89      0.93      0.91      2171\n",
            "           3       0.47      0.87      0.61       241\n",
            "           4       0.95      0.99      0.97      2412\n",
            "\n",
            "    accuracy                           0.96     32834\n",
            "   macro avg       0.77      0.92      0.83     32834\n",
            "weighted avg       0.97      0.96      0.96     32834\n",
            "\n",
            "Accuracy 0.9563562161174393\n",
            "confusion matrix:\n",
            "[[26062   583   225   200   107]\n",
            " [   95   724     8     3     3]\n",
            " [   75    41  2012    35     8]\n",
            " [   12     1    18   210     0]\n",
            " [   13     1     5     0  2393]]\n"
          ]
        }
      ],
      "source": [
        "y_pred = model.predict(X_test, batch_size=1000)\n",
        "print(classification_report(y_test.argmax(axis=1), y_pred.argmax(axis=1)))\n",
        "print('Accuracy', accuracy_score(y_test.argmax(axis=1), y_pred.argmax(axis=1)))\n",
        "#print('ROC AUC score:', roc_auc_score(y_test.argmax(axis=1), y_pred.argmax(axis=1)))\n",
        "print('confusion matrix:')\n",
        "print(confusion_matrix(y_test.argmax(axis=1), y_pred.argmax(axis=1)))"
      ]
    },
    {
      "cell_type": "code",
      "execution_count": 18,
      "metadata": {
        "colab": {
          "base_uri": "https://localhost:8080/",
          "height": 451
        },
        "id": "of8YO-jYzZdU",
        "outputId": "5a11bb27-4065-48c1-d25d-0d6bbd168f88"
      },
      "outputs": [
        {
          "data": {
            "text/plain": [
              "<Axes: >"
            ]
          },
          "execution_count": 18,
          "metadata": {},
          "output_type": "execute_result"
        },
        {
          "data": {
            "image/png": "[encoded data removed]",
            "text/plain": [
              "<Figure size 640x480 with 2 Axes>"
            ]
          },
          "metadata": {},
          "output_type": "display_data"
        }
      ],
      "source": [
        "import seaborn as sns\n",
        "cm = confusion_matrix(y_test.argmax(axis=1), y_pred.argmax(axis=1))\n",
        "sns.heatmap(cm/np.sum(cm), annot=True, fmt='.2%', cmap='OrRd')"
      ]
    },
    {
      "cell_type": "markdown",
      "metadata": {
        "id": "ylNdH5h9hfGd"
      },
      "source": [
        " Visualisation"
      ]
    },
    {
      "cell_type": "code",
      "execution_count": 19,
      "metadata": {
        "colab": {
          "base_uri": "https://localhost:8080/",
          "height": 472
        },
        "id": "Vzkk4p123O3r",
        "outputId": "f9756631-e0ac-4550-989b-551bd4c399ac"
      },
      "outputs": [
        {
          "data": {
            "image/png": "[encoded data removed]",
            "text/plain": [
              "<Figure size 640x480 with 1 Axes>"
            ]
          },
          "metadata": {},
          "output_type": "display_data"
        }
      ],
      "source": [
        "plt.plot(history.history['accuracy'])\n",
        "plt.plot(history.history['val_accuracy'])\n",
        "plt.xlabel('Epochs')\n",
        "plt.ylabel('Accuracy')\n",
        "plt.title('ACCURACY CURVE')\n",
        "plt.legend(['accuracy','val_accuracy'], loc='best')\n",
        "plt.show()"
      ]
    },
    {
      "cell_type": "code",
      "execution_count": 20,
      "metadata": {
        "colab": {
          "base_uri": "https://localhost:8080/",
          "height": 472
        },
        "id": "4bAfWfaf3QAV",
        "outputId": "3b6900aa-be70-465b-ae01-dd7b699f6885"
      },
      "outputs": [
        {
          "data": {
            "image/png": "[encoded data removed]",
            "text/plain": [
              "<Figure size 640x480 with 1 Axes>"
            ]
          },
          "metadata": {},
          "output_type": "display_data"
        }
      ],
      "source": [
        "plt.plot(history.history['loss'])\n",
        "plt.plot(history.history['val_loss'])\n",
        "plt.xlabel('Epochs')\n",
        "plt.ylabel('Loss')\n",
        "plt.title('LOSS CURVE')\n",
        "plt.legend(['loss','val_loss'], loc='best')\n",
        "plt.show()"
      ]
    },
    {
      "cell_type": "markdown",
      "metadata": {
        "id": "473HgM9x415n"
      },
      "source": [
        "Saving the trained model"
      ]
    },
    {
      "cell_type": "code",
      "execution_count": 21,
      "metadata": {
        "colab": {
          "base_uri": "https://localhost:8080/"
        },
        "id": "9bhGBfMRh-pW",
        "outputId": "a9d1f45d-e5a1-4511-9a2d-6aeebac04b8d"
      },
      "outputs": [
        {
          "name": "stderr",
          "output_type": "stream",
          "text": [
            "WARNING:absl:You are saving your model as an HDF5 file via `model.save()` or `keras.saving.save_model(model)`. This file format is considered legacy. We recommend using instead the native Keras format, e.g. `model.save('my_model.keras')` or `keras.saving.save_model(model, 'my_model.keras')`. \n"
          ]
        },
        {
          "name": "stdout",
          "output_type": "stream",
          "text": [
            "saved the model to disk\n"
          ]
        }
      ],
      "source": [
        "model.save(r'C:\\Users\\OJO ABAYOMI MOSES\\3D Objects\\model.h5')\n",
        "print('saved the model to disk')"
      ]
    },
    {
      "cell_type": "code",
      "execution_count": 22,
      "metadata": {
        "colab": {
          "base_uri": "https://localhost:8080/",
          "height": 141
        },
        "id": "Knpnw3BHdBlz",
        "outputId": "514f21b7-802b-4f2c-b3f4-43a89a59326c"
      },
      "outputs": [
        {
          "ename": "NameError",
          "evalue": "name 'test' is not defined",
          "output_type": "error",
          "traceback": [
            "\u001b[1;31m---------------------------------------------------------------------------\u001b[0m",
            "\u001b[1;31mNameError\u001b[0m                                 Traceback (most recent call last)",
            "Cell \u001b[1;32mIn[22], line 1\u001b[0m\n\u001b[1;32m----> 1\u001b[0m \u001b[43mtest\u001b[49m\n",
            "\u001b[1;31mNameError\u001b[0m: name 'test' is not defined"
          ]
        }
      ],
      "source": [
        "test"
      ]
    },
    {
      "cell_type": "code",
      "execution_count": null,
      "metadata": {
        "colab": {
          "base_uri": "https://localhost:8080/",
          "height": 447
        },
        "id": "rJVY3tKEQTkF",
        "outputId": "ea214e0c-ff4a-49de-872b-82f82ae2b3a0"
      },
      "outputs": [
        {
          "data": {
            "text/plain": [
              "[<matplotlib.lines.Line2D at 0x1e4e53d4990>]"
            ]
          },
          "execution_count": 42,
          "metadata": {},
          "output_type": "execute_result"
        },
        {
          "data": {
            "image/png": "[encoded data removed]",
            "text/plain": [
              "<Figure size 640x480 with 1 Axes>"
            ]
          },
          "metadata": {},
          "output_type": "display_data"
        }
      ],
      "source": [
        "plt.plot(test.iloc[0,:186])"
      ]
    },
    {
      "cell_type": "code",
      "execution_count": null,
      "metadata": {
        "colab": {
          "base_uri": "https://localhost:8080/",
          "height": 447
        },
        "id": "sgL9q2TRyFC-",
        "outputId": "08f6a07d-f26a-4c47-de9a-caf3ab6301c8"
      },
      "outputs": [
        {
          "data": {
            "text/plain": [
              "[<matplotlib.lines.Line2D at 0x1e48e682250>]"
            ]
          },
          "execution_count": 43,
          "metadata": {},
          "output_type": "execute_result"
        },
        {
          "data": {
            "image/png": "[encoded data removed]",
            "text/plain": [
              "<Figure size 640x480 with 1 Axes>"
            ]
          },
          "metadata": {},
          "output_type": "display_data"
        }
      ],
      "source": [
        "plt.plot(test.iloc[1,:186])"
      ]
    }
  ],
  "metadata": {
    "accelerator": "GPU",
    "colab": {
      "provenance": []
    },
    "kernelspec": {
      "display_name": "Python 3",
      "name": "python3"
    },
    "language_info": {
      "codemirror_mode": {
        "name": "ipython",
        "version": 3
      },
      "file_extension": ".py",
      "mimetype": "text/x-python",
      "name": "python",
      "nbconvert_exporter": "python",
      "pygments_lexer": "ipython3",
      "version": "3.11.3"
    }
  },
  "nbformat": 4,
  "nbformat_minor": 0
}
